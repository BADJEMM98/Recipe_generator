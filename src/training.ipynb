{
 "cells": [
  {
   "cell_type": "code",
   "execution_count": 55,
   "metadata": {},
   "outputs": [],
   "source": [
    "import os\n",
    "import re\n",
    "import pandas as pd\n",
    "import numpy as np\n",
    "import tensorflow as tf\n",
    "from sklearn.model_selection import train_test_split\n",
    "from transformers import GPT2Tokenizer, GPT2Config, TFGPT2Model"
   ]
  },
  {
   "cell_type": "code",
   "execution_count": 56,
   "metadata": {},
   "outputs": [],
   "source": [
    "tokenizer = GPT2Tokenizer.from_pretrained('gpt2', lang='fr')"
   ]
  },
  {
   "cell_type": "code",
   "execution_count": 57,
   "metadata": {},
   "outputs": [],
   "source": [
    "current_dir = os.path.dirname(os.path.realpath(\"__file__\"))\n",
    "repo_dir = os.path.dirname(current_dir)\n",
    "DATA_FILE = os.path.join(repo_dir,\"data\",\"cleaned_data.csv\")\n",
    "data = pd.read_csv(DATA_FILE, encoding=\"utf-8\",sep=',')"
   ]
  },
  {
   "cell_type": "code",
   "execution_count": 58,
   "metadata": {},
   "outputs": [
    {
     "data": {
      "text/html": [
       "<div>\n",
       "<style scoped>\n",
       "    .dataframe tbody tr th:only-of-type {\n",
       "        vertical-align: middle;\n",
       "    }\n",
       "\n",
       "    .dataframe tbody tr th {\n",
       "        vertical-align: top;\n",
       "    }\n",
       "\n",
       "    .dataframe thead th {\n",
       "        text-align: right;\n",
       "    }\n",
       "</style>\n",
       "<table border=\"1\" class=\"dataframe\">\n",
       "  <thead>\n",
       "    <tr style=\"text-align: right;\">\n",
       "      <th></th>\n",
       "      <th>Nom</th>\n",
       "      <th>Duree</th>\n",
       "      <th>Personnes</th>\n",
       "      <th>Type</th>\n",
       "      <th>Ingredients</th>\n",
       "      <th>Ustensiles</th>\n",
       "      <th>Etapes</th>\n",
       "      <th>recettes</th>\n",
       "    </tr>\n",
       "  </thead>\n",
       "  <tbody>\n",
       "    <tr>\n",
       "      <th>13018</th>\n",
       "      <td>samoussa rapide boeuf</td>\n",
       "      <td>30 min</td>\n",
       "      <td>10</td>\n",
       "      <td>4</td>\n",
       "      <td>250 gramme boeuf hacher 1 carotte 1 oignon  ...</td>\n",
       "      <td>poele pinceau cuillere bois denoyauteur assiette</td>\n",
       "      <td>etape 1 poele feu vif faire revenir oignon ail...</td>\n",
       "      <td>samoussa rapide boeuf    250 gramme boeuf hach...</td>\n",
       "    </tr>\n",
       "    <tr>\n",
       "      <th>23801</th>\n",
       "      <td>roti boeuf four simple</td>\n",
       "      <td>30 min</td>\n",
       "      <td>2</td>\n",
       "      <td>5</td>\n",
       "      <td>1 gousse ail   2 c.a. huile olive   12 cl ea...</td>\n",
       "      <td>four couteau couteau planche decouper plat gra...</td>\n",
       "      <td>etape 1 prechauffer four 220 degre c thermosta...</td>\n",
       "      <td>roti boeuf four simple    1 gousse ail   2 c.a...</td>\n",
       "    </tr>\n",
       "    <tr>\n",
       "      <th>27850</th>\n",
       "      <td>gateau pomme facile</td>\n",
       "      <td>50 min</td>\n",
       "      <td>6</td>\n",
       "      <td>3</td>\n",
       "      <td>120 gramme sucre semoul   1 paquet sucre van...</td>\n",
       "      <td>grille patisserie moule manquer couteau four c...</td>\n",
       "      <td>etape 1 prechauffer four 160 degre c thermosta...</td>\n",
       "      <td>gateau pomme facile    120 gramme sucre semoul...</td>\n",
       "    </tr>\n",
       "    <tr>\n",
       "      <th>42364</th>\n",
       "      <td>sushi français</td>\n",
       "      <td>40 min</td>\n",
       "      <td>4</td>\n",
       "      <td>1</td>\n",
       "      <td>2 feuille nori magasin biologique   1 verre ...</td>\n",
       "      <td>couteau plat</td>\n",
       "      <td>etape 1 poser feuille nori plat couper etape 2...</td>\n",
       "      <td>sushi français    2 feuille nori magasin biolo...</td>\n",
       "    </tr>\n",
       "    <tr>\n",
       "      <th>27748</th>\n",
       "      <td>mug cak fondant chocolat</td>\n",
       "      <td>3 min</td>\n",
       "      <td>1</td>\n",
       "      <td>3</td>\n",
       "      <td>40 gramme chocolat noir   40 gramme beurre  ...</td>\n",
       "      <td>micro-onde cuillere bois bol balance cuisine</td>\n",
       "      <td>etape 1 mug mettre carre chocolat beurre decou...</td>\n",
       "      <td>mug cak fondant chocolat    40 gramme chocolat...</td>\n",
       "    </tr>\n",
       "  </tbody>\n",
       "</table>\n",
       "</div>"
      ],
      "text/plain": [
       "                            Nom   Duree  Personnes  Type  \\\n",
       "13018     samoussa rapide boeuf  30 min         10     4   \n",
       "23801    roti boeuf four simple  30 min          2     5   \n",
       "27850       gateau pomme facile  50 min          6     3   \n",
       "42364            sushi français  40 min          4     1   \n",
       "27748  mug cak fondant chocolat   3 min          1     3   \n",
       "\n",
       "                                             Ingredients  \\\n",
       "13018    250 gramme boeuf hacher 1 carotte 1 oignon  ...   \n",
       "23801    1 gousse ail   2 c.a. huile olive   12 cl ea...   \n",
       "27850    120 gramme sucre semoul   1 paquet sucre van...   \n",
       "42364    2 feuille nori magasin biologique   1 verre ...   \n",
       "27748    40 gramme chocolat noir   40 gramme beurre  ...   \n",
       "\n",
       "                                              Ustensiles  \\\n",
       "13018   poele pinceau cuillere bois denoyauteur assiette   \n",
       "23801  four couteau couteau planche decouper plat gra...   \n",
       "27850  grille patisserie moule manquer couteau four c...   \n",
       "42364                                       couteau plat   \n",
       "27748       micro-onde cuillere bois bol balance cuisine   \n",
       "\n",
       "                                                  Etapes  \\\n",
       "13018  etape 1 poele feu vif faire revenir oignon ail...   \n",
       "23801  etape 1 prechauffer four 220 degre c thermosta...   \n",
       "27850  etape 1 prechauffer four 160 degre c thermosta...   \n",
       "42364  etape 1 poser feuille nori plat couper etape 2...   \n",
       "27748  etape 1 mug mettre carre chocolat beurre decou...   \n",
       "\n",
       "                                                recettes  \n",
       "13018  samoussa rapide boeuf    250 gramme boeuf hach...  \n",
       "23801  roti boeuf four simple    1 gousse ail   2 c.a...  \n",
       "27850  gateau pomme facile    120 gramme sucre semoul...  \n",
       "42364  sushi français    2 feuille nori magasin biolo...  \n",
       "27748  mug cak fondant chocolat    40 gramme chocolat...  "
      ]
     },
     "execution_count": 58,
     "metadata": {},
     "output_type": "execute_result"
    }
   ],
   "source": [
    "data.sample(5)"
   ]
  },
  {
   "cell_type": "code",
   "execution_count": 16,
   "metadata": {},
   "outputs": [],
   "source": [
    "data['tokens'] = data['recettes'].apply(tokenizer.tokenize)"
   ]
  },
  {
   "cell_type": "code",
   "execution_count": 60,
   "metadata": {},
   "outputs": [],
   "source": [
    "# oov_tokens = ['s','Entrée']\n",
    "# tokenizer.add_tokens(oov_tokens)\n",
    "tokenizer.add_special_tokens({'pad_token': '[PAD]'})\n",
    "\n",
    "max_length = 512\n",
    "sequences = tokenizer.batch_encode_plus(data['recettes'].to_list(), padding=True, truncation=True, return_tensors='tf', max_length=max_length)\n",
    "\n",
    "# num_classes = len(np.unique(y))\n",
    "# y = tf.keras.utils.to_categorical(y, num_classes)"
   ]
  },
  {
   "cell_type": "code",
   "execution_count": 62,
   "metadata": {},
   "outputs": [
    {
     "data": {
      "text/plain": [
       "50258"
      ]
     },
     "execution_count": 62,
     "metadata": {},
     "output_type": "execute_result"
    }
   ],
   "source": [
    "len(tokenizer)"
   ]
  },
  {
   "cell_type": "code",
   "execution_count": 63,
   "metadata": {},
   "outputs": [],
   "source": [
    "# Split the data into training and testing sets\n",
    "# X_train, X_test, y_train, y_test = train_test_split(sequences['input_ids'].numpy(), sequences['attention_mask'].numpy(), test_size=0.2, random_state=42)\n",
    "# X_train, X_valid, y_train, y_valid = train_test_split(X, y, test_size=0.2, random_state=42)\n",
    "\n",
    "X = sequences['input_ids'].numpy()\n",
    "y = sequences['attention_mask'].numpy()\n",
    "input_dim = X.shape[1]\n",
    "\n",
    "# Reshape the input data to a 3D tensor\n",
    "batch_size = X.shape[0]\n",
    "sequence_length = 1  # Set the sequence length to 1\n",
    "# X = np.reshape(X, (batch_size, sequence_length, input_dim))\n",
    "\n",
    "output_dim = y.shape[1]\n",
    "\n",
    "# Reshape the target data to a 2D tensor\n",
    "# Y = np.reshape(y, (batch_size, output_dim))\n",
    "\n",
    "# Split the data into training and test sets\n",
    "X_train, X_test, y_train, y_test = train_test_split(X, y, test_size=0.2, random_state=42)"
   ]
  },
  {
   "cell_type": "code",
   "execution_count": 43,
   "metadata": {},
   "outputs": [
    {
     "data": {
      "text/plain": [
       "47340"
      ]
     },
     "execution_count": 43,
     "metadata": {},
     "output_type": "execute_result"
    }
   ],
   "source": [
    "batch_size"
   ]
  },
  {
   "cell_type": "code",
   "execution_count": 64,
   "metadata": {},
   "outputs": [],
   "source": [
    "X_train = np.expand_dims(X_train, axis=-1)\n",
    "X_test = np.expand_dims(X_test, axis=-1)\n",
    "y_train = np.expand_dims(y_train, axis=-1)\n",
    "y_test = np.expand_dims(y_test, axis=-1)\n",
    "\n",
    "# X_train = tf.reshape(X_train, (-1, 1024))\n",
    "# X_test= tf.reshape(X_test, (-1, 1024))\n",
    "\n",
    "# y_train= tf.reshape(y_train, (-1, 1024))\n",
    "# y_test = tf.reshape(y_test, (-1, 1024))"
   ]
  },
  {
   "cell_type": "code",
   "execution_count": 46,
   "metadata": {},
   "outputs": [
    {
     "name": "stdout",
     "output_type": "stream",
     "text": [
      "(37872, 512, 1)\n",
      "(37872, 512, 1)\n"
     ]
    }
   ],
   "source": [
    "print(X_train.shape)\n",
    "print(y_train.shape)"
   ]
  },
  {
   "cell_type": "code",
   "execution_count": 65,
   "metadata": {},
   "outputs": [
    {
     "name": "stderr",
     "output_type": "stream",
     "text": [
      "All model checkpoint layers were used when initializing TFGPT2Model.\n",
      "\n",
      "All the layers of TFGPT2Model were initialized from the model checkpoint at gpt2.\n",
      "If your task is similar to the task the model of the checkpoint was trained on, you can already use TFGPT2Model for predictions without further training.\n"
     ]
    },
    {
     "data": {
      "text/plain": [
       "<transformers.modeling_tf_utils.TFSharedEmbeddings at 0x2449ef70e20>"
      ]
     },
     "execution_count": 65,
     "metadata": {},
     "output_type": "execute_result"
    }
   ],
   "source": [
    "config = GPT2Config.from_pretrained('gpt2')\n",
    "config.output_hidden_states = False\n",
    "model = TFGPT2Model.from_pretrained('gpt2',config=config)\n",
    "# model.config = config\n",
    "model.resize_token_embeddings(len(tokenizer))"
   ]
  },
  {
   "cell_type": "code",
   "execution_count": 66,
   "metadata": {},
   "outputs": [
    {
     "name": "stdout",
     "output_type": "stream",
     "text": [
      "Epoch 1/10\n"
     ]
    }
   ],
   "source": [
    "# Compile the model\n",
    "optimizer = tf.keras.optimizers.Adam(learning_rate=3e-5, epsilon=1e-08, clipnorm=1.0)\n",
    "loss = tf.keras.losses.SparseCategoricalCrossentropy(from_logits=True)\n",
    "metric = tf.keras.metrics.CategoricalAccuracy('accuracy')\n",
    "\n",
    "model.compile(\n",
    "  loss=loss,\n",
    "  optimizer=optimizer,\n",
    "  metrics=metric\n",
    ")\n",
    "\n",
    "# Train the model\n",
    "history = model.fit(\n",
    "  X_train,\n",
    "  y_train,\n",
    "  batch_size=128,\n",
    "  epochs=10,\n",
    "  validation_data=(X_test, y_test)\n",
    ")\n"
   ]
  }
 ],
 "metadata": {
  "kernelspec": {
   "display_name": "venv",
   "language": "python",
   "name": "python3"
  },
  "language_info": {
   "codemirror_mode": {
    "name": "ipython",
    "version": 3
   },
   "file_extension": ".py",
   "mimetype": "text/x-python",
   "name": "python",
   "nbconvert_exporter": "python",
   "pygments_lexer": "ipython3",
   "version": "3.10.4"
  },
  "orig_nbformat": 4,
  "vscode": {
   "interpreter": {
    "hash": "befec533deea68de54ca62dbffdf5cda37e71d4b7ad2a5c99b38a8c68b455b77"
   }
  }
 },
 "nbformat": 4,
 "nbformat_minor": 2
}
