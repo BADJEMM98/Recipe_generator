{
 "cells": [
  {
   "cell_type": "code",
   "execution_count": 1,
   "metadata": {},
   "outputs": [
    {
     "name": "stderr",
     "output_type": "stream",
     "text": [
      "c:\\Users\\badje\\OneDrive\\Bureau\\Cours_M2\\NLP\\projet\\Recipe_generator\\venv\\lib\\site-packages\\tqdm\\auto.py:22: TqdmWarning: IProgress not found. Please update jupyter and ipywidgets. See https://ipywidgets.readthedocs.io/en/stable/user_install.html\n",
      "  from .autonotebook import tqdm as notebook_tqdm\n"
     ]
    }
   ],
   "source": [
    "import os\n",
    "import re\n",
    "import ast\n",
    "import nltk \n",
    "import spacy\n",
    "import pandas as pd\n",
    "from tqdm import tqdm\n",
    "from typing import List\n",
    "from sklearn.preprocessing import LabelEncoder"
   ]
  },
  {
   "cell_type": "code",
   "execution_count": 4,
   "metadata": {},
   "outputs": [
    {
     "name": "stdout",
     "output_type": "stream",
     "text": [
      "^C\n"
     ]
    },
    {
     "name": "stdout",
     "output_type": "stream",
     "text": [
      "Collecting fr-core-news-lg==3.4.0\n",
      "  Downloading https://github.com/explosion/spacy-models/releases/download/fr_core_news_lg-3.4.0/fr_core_news_lg-3.4.0-py3-none-any.whl (571.8 MB)\n",
      "     ------------------------------------ 571.8/571.8 MB 969.6 kB/s eta 0:00:00\n",
      "Requirement already satisfied: spacy<3.5.0,>=3.4.0 in c:\\users\\badje\\onedrive\\bureau\\cours_m2\\nlp\\projet\\recipe_generator\\venv\\lib\\site-packages (from fr-core-news-lg==3.4.0) (3.4.4)\n",
      "Requirement already satisfied: packaging>=20.0 in c:\\users\\badje\\onedrive\\bureau\\cours_m2\\nlp\\projet\\recipe_generator\\venv\\lib\\site-packages (from spacy<3.5.0,>=3.4.0->fr-core-news-lg==3.4.0) (22.0)\n",
      "Requirement already satisfied: murmurhash<1.1.0,>=0.28.0 in c:\\users\\badje\\onedrive\\bureau\\cours_m2\\nlp\\projet\\recipe_generator\\venv\\lib\\site-packages (from spacy<3.5.0,>=3.4.0->fr-core-news-lg==3.4.0) (1.0.9)\n",
      "Requirement already satisfied: thinc<8.2.0,>=8.1.0 in c:\\users\\badje\\onedrive\\bureau\\cours_m2\\nlp\\projet\\recipe_generator\\venv\\lib\\site-packages (from spacy<3.5.0,>=3.4.0->fr-core-news-lg==3.4.0) (8.1.6)\n",
      "Requirement already satisfied: srsly<3.0.0,>=2.4.3 in c:\\users\\badje\\onedrive\\bureau\\cours_m2\\nlp\\projet\\recipe_generator\\venv\\lib\\site-packages (from spacy<3.5.0,>=3.4.0->fr-core-news-lg==3.4.0) (2.4.5)\n",
      "Requirement already satisfied: pathy>=0.3.5 in c:\\users\\badje\\onedrive\\bureau\\cours_m2\\nlp\\projet\\recipe_generator\\venv\\lib\\site-packages (from spacy<3.5.0,>=3.4.0->fr-core-news-lg==3.4.0) (0.10.1)\n",
      "Requirement already satisfied: wasabi<1.1.0,>=0.9.1 in c:\\users\\badje\\onedrive\\bureau\\cours_m2\\nlp\\projet\\recipe_generator\\venv\\lib\\site-packages (from spacy<3.5.0,>=3.4.0->fr-core-news-lg==3.4.0) (0.10.1)\n",
      "Requirement already satisfied: smart-open<7.0.0,>=5.2.1 in c:\\users\\badje\\onedrive\\bureau\\cours_m2\\nlp\\projet\\recipe_generator\\venv\\lib\\site-packages (from spacy<3.5.0,>=3.4.0->fr-core-news-lg==3.4.0) (6.3.0)\n",
      "Requirement already satisfied: langcodes<4.0.0,>=3.2.0 in c:\\users\\badje\\onedrive\\bureau\\cours_m2\\nlp\\projet\\recipe_generator\\venv\\lib\\site-packages (from spacy<3.5.0,>=3.4.0->fr-core-news-lg==3.4.0) (3.3.0)\n",
      "Requirement already satisfied: numpy>=1.15.0 in c:\\users\\badje\\onedrive\\bureau\\cours_m2\\nlp\\projet\\recipe_generator\\venv\\lib\\site-packages (from spacy<3.5.0,>=3.4.0->fr-core-news-lg==3.4.0) (1.24.1)\n",
      "Requirement already satisfied: requests<3.0.0,>=2.13.0 in c:\\users\\badje\\onedrive\\bureau\\cours_m2\\nlp\\projet\\recipe_generator\\venv\\lib\\site-packages (from spacy<3.5.0,>=3.4.0->fr-core-news-lg==3.4.0) (2.28.1)\n",
      "Requirement already satisfied: typer<0.8.0,>=0.3.0 in c:\\users\\badje\\onedrive\\bureau\\cours_m2\\nlp\\projet\\recipe_generator\\venv\\lib\\site-packages (from spacy<3.5.0,>=3.4.0->fr-core-news-lg==3.4.0) (0.7.0)\n",
      "Requirement already satisfied: spacy-loggers<2.0.0,>=1.0.0 in c:\\users\\badje\\onedrive\\bureau\\cours_m2\\nlp\\projet\\recipe_generator\\venv\\lib\\site-packages (from spacy<3.5.0,>=3.4.0->fr-core-news-lg==3.4.0) (1.0.4)\n",
      "Requirement already satisfied: cymem<2.1.0,>=2.0.2 in c:\\users\\badje\\onedrive\\bureau\\cours_m2\\nlp\\projet\\recipe_generator\\venv\\lib\\site-packages (from spacy<3.5.0,>=3.4.0->fr-core-news-lg==3.4.0) (2.0.7)\n",
      "Requirement already satisfied: spacy-legacy<3.1.0,>=3.0.10 in c:\\users\\badje\\onedrive\\bureau\\cours_m2\\nlp\\projet\\recipe_generator\\venv\\lib\\site-packages (from spacy<3.5.0,>=3.4.0->fr-core-news-lg==3.4.0) (3.0.10)\n",
      "Requirement already satisfied: catalogue<2.1.0,>=2.0.6 in c:\\users\\badje\\onedrive\\bureau\\cours_m2\\nlp\\projet\\recipe_generator\\venv\\lib\\site-packages (from spacy<3.5.0,>=3.4.0->fr-core-news-lg==3.4.0) (2.0.8)\n",
      "Requirement already satisfied: jinja2 in c:\\users\\badje\\onedrive\\bureau\\cours_m2\\nlp\\projet\\recipe_generator\\venv\\lib\\site-packages (from spacy<3.5.0,>=3.4.0->fr-core-news-lg==3.4.0) (3.1.2)\n",
      "Requirement already satisfied: tqdm<5.0.0,>=4.38.0 in c:\\users\\badje\\onedrive\\bureau\\cours_m2\\nlp\\projet\\recipe_generator\\venv\\lib\\site-packages (from spacy<3.5.0,>=3.4.0->fr-core-news-lg==3.4.0) (4.64.1)\n",
      "Requirement already satisfied: pydantic!=1.8,!=1.8.1,<1.11.0,>=1.7.4 in c:\\users\\badje\\onedrive\\bureau\\cours_m2\\nlp\\projet\\recipe_generator\\venv\\lib\\site-packages (from spacy<3.5.0,>=3.4.0->fr-core-news-lg==3.4.0) (1.10.2)\n",
      "Requirement already satisfied: setuptools in c:\\users\\badje\\onedrive\\bureau\\cours_m2\\nlp\\projet\\recipe_generator\\venv\\lib\\site-packages (from spacy<3.5.0,>=3.4.0->fr-core-news-lg==3.4.0) (65.6.3)\n",
      "Requirement already satisfied: preshed<3.1.0,>=3.0.2 in c:\\users\\badje\\onedrive\\bureau\\cours_m2\\nlp\\projet\\recipe_generator\\venv\\lib\\site-packages (from spacy<3.5.0,>=3.4.0->fr-core-news-lg==3.4.0) (3.0.8)\n",
      "Requirement already satisfied: typing-extensions>=4.1.0 in c:\\users\\badje\\onedrive\\bureau\\cours_m2\\nlp\\projet\\recipe_generator\\venv\\lib\\site-packages (from pydantic!=1.8,!=1.8.1,<1.11.0,>=1.7.4->spacy<3.5.0,>=3.4.0->fr-core-news-lg==3.4.0) (4.4.0)\n",
      "Requirement already satisfied: idna<4,>=2.5 in c:\\users\\badje\\onedrive\\bureau\\cours_m2\\nlp\\projet\\recipe_generator\\venv\\lib\\site-packages (from requests<3.0.0,>=2.13.0->spacy<3.5.0,>=3.4.0->fr-core-news-lg==3.4.0) (3.4)\n",
      "Requirement already satisfied: urllib3<1.27,>=1.21.1 in c:\\users\\badje\\onedrive\\bureau\\cours_m2\\nlp\\projet\\recipe_generator\\venv\\lib\\site-packages (from requests<3.0.0,>=2.13.0->spacy<3.5.0,>=3.4.0->fr-core-news-lg==3.4.0) (1.26.13)\n",
      "Requirement already satisfied: charset-normalizer<3,>=2 in c:\\users\\badje\\onedrive\\bureau\\cours_m2\\nlp\\projet\\recipe_generator\\venv\\lib\\site-packages (from requests<3.0.0,>=2.13.0->spacy<3.5.0,>=3.4.0->fr-core-news-lg==3.4.0) (2.1.1)\n",
      "Requirement already satisfied: certifi>=2017.4.17 in c:\\users\\badje\\onedrive\\bureau\\cours_m2\\nlp\\projet\\recipe_generator\\venv\\lib\\site-packages (from requests<3.0.0,>=2.13.0->spacy<3.5.0,>=3.4.0->fr-core-news-lg==3.4.0) (2022.12.7)\n",
      "Requirement already satisfied: blis<0.8.0,>=0.7.8 in c:\\users\\badje\\onedrive\\bureau\\cours_m2\\nlp\\projet\\recipe_generator\\venv\\lib\\site-packages (from thinc<8.2.0,>=8.1.0->spacy<3.5.0,>=3.4.0->fr-core-news-lg==3.4.0) (0.7.9)\n",
      "Requirement already satisfied: confection<1.0.0,>=0.0.1 in c:\\users\\badje\\onedrive\\bureau\\cours_m2\\nlp\\projet\\recipe_generator\\venv\\lib\\site-packages (from thinc<8.2.0,>=8.1.0->spacy<3.5.0,>=3.4.0->fr-core-news-lg==3.4.0) (0.0.3)\n",
      "Requirement already satisfied: colorama in c:\\users\\badje\\onedrive\\bureau\\cours_m2\\nlp\\projet\\recipe_generator\\venv\\lib\\site-packages (from tqdm<5.0.0,>=4.38.0->spacy<3.5.0,>=3.4.0->fr-core-news-lg==3.4.0) (0.4.6)\n",
      "Requirement already satisfied: click<9.0.0,>=7.1.1 in c:\\users\\badje\\onedrive\\bureau\\cours_m2\\nlp\\projet\\recipe_generator\\venv\\lib\\site-packages (from typer<0.8.0,>=0.3.0->spacy<3.5.0,>=3.4.0->fr-core-news-lg==3.4.0) (8.1.3)\n",
      "Requirement already satisfied: MarkupSafe>=2.0 in c:\\users\\badje\\onedrive\\bureau\\cours_m2\\nlp\\projet\\recipe_generator\\venv\\lib\\site-packages (from jinja2->spacy<3.5.0,>=3.4.0->fr-core-news-lg==3.4.0) (2.1.1)\n",
      "Installing collected packages: fr-core-news-lg\n",
      "Successfully installed fr-core-news-lg-3.4.0\n",
      "✔ Download and installation successful\n",
      "You can now load the package via spacy.load('fr_core_news_lg')\n"
     ]
    }
   ],
   "source": [
    "!python -m spacy download fr_core_news_lg"
   ]
  },
  {
   "cell_type": "code",
   "execution_count": 2,
   "metadata": {},
   "outputs": [],
   "source": [
    "nlp = spacy.load(\"fr_core_news_lg\")"
   ]
  },
  {
   "cell_type": "code",
   "execution_count": 3,
   "metadata": {},
   "outputs": [
    {
     "name": "stderr",
     "output_type": "stream",
     "text": [
      "[nltk_data] Downloading collection 'popular'\n",
      "[nltk_data]    | \n",
      "[nltk_data]    | Downloading package cmudict to\n",
      "[nltk_data]    |     C:\\Users\\badje\\AppData\\Roaming\\nltk_data...\n",
      "[nltk_data]    |   Package cmudict is already up-to-date!\n",
      "[nltk_data]    | Downloading package gazetteers to\n",
      "[nltk_data]    |     C:\\Users\\badje\\AppData\\Roaming\\nltk_data...\n",
      "[nltk_data]    |   Package gazetteers is already up-to-date!\n",
      "[nltk_data]    | Downloading package genesis to\n",
      "[nltk_data]    |     C:\\Users\\badje\\AppData\\Roaming\\nltk_data...\n",
      "[nltk_data]    |   Package genesis is already up-to-date!\n",
      "[nltk_data]    | Downloading package gutenberg to\n",
      "[nltk_data]    |     C:\\Users\\badje\\AppData\\Roaming\\nltk_data...\n",
      "[nltk_data]    |   Package gutenberg is already up-to-date!\n",
      "[nltk_data]    | Downloading package inaugural to\n",
      "[nltk_data]    |     C:\\Users\\badje\\AppData\\Roaming\\nltk_data...\n",
      "[nltk_data]    |   Package inaugural is already up-to-date!\n",
      "[nltk_data]    | Downloading package movie_reviews to\n",
      "[nltk_data]    |     C:\\Users\\badje\\AppData\\Roaming\\nltk_data...\n",
      "[nltk_data]    |   Package movie_reviews is already up-to-date!\n",
      "[nltk_data]    | Downloading package names to\n",
      "[nltk_data]    |     C:\\Users\\badje\\AppData\\Roaming\\nltk_data...\n",
      "[nltk_data]    |   Package names is already up-to-date!\n",
      "[nltk_data]    | Downloading package shakespeare to\n",
      "[nltk_data]    |     C:\\Users\\badje\\AppData\\Roaming\\nltk_data...\n",
      "[nltk_data]    |   Package shakespeare is already up-to-date!\n",
      "[nltk_data]    | Downloading package stopwords to\n",
      "[nltk_data]    |     C:\\Users\\badje\\AppData\\Roaming\\nltk_data...\n",
      "[nltk_data]    |   Package stopwords is already up-to-date!\n",
      "[nltk_data]    | Downloading package treebank to\n",
      "[nltk_data]    |     C:\\Users\\badje\\AppData\\Roaming\\nltk_data...\n",
      "[nltk_data]    |   Package treebank is already up-to-date!\n",
      "[nltk_data]    | Downloading package twitter_samples to\n",
      "[nltk_data]    |     C:\\Users\\badje\\AppData\\Roaming\\nltk_data...\n",
      "[nltk_data]    |   Package twitter_samples is already up-to-date!\n",
      "[nltk_data]    | Downloading package omw to\n",
      "[nltk_data]    |     C:\\Users\\badje\\AppData\\Roaming\\nltk_data...\n",
      "[nltk_data]    |   Package omw is already up-to-date!\n",
      "[nltk_data]    | Downloading package omw-1.4 to\n",
      "[nltk_data]    |     C:\\Users\\badje\\AppData\\Roaming\\nltk_data...\n",
      "[nltk_data]    |   Package omw-1.4 is already up-to-date!\n",
      "[nltk_data]    | Downloading package wordnet to\n",
      "[nltk_data]    |     C:\\Users\\badje\\AppData\\Roaming\\nltk_data...\n",
      "[nltk_data]    |   Package wordnet is already up-to-date!\n",
      "[nltk_data]    | Downloading package wordnet2021 to\n",
      "[nltk_data]    |     C:\\Users\\badje\\AppData\\Roaming\\nltk_data...\n",
      "[nltk_data]    |   Package wordnet2021 is already up-to-date!\n",
      "[nltk_data]    | Downloading package wordnet31 to\n",
      "[nltk_data]    |     C:\\Users\\badje\\AppData\\Roaming\\nltk_data...\n",
      "[nltk_data]    |   Package wordnet31 is already up-to-date!\n",
      "[nltk_data]    | Downloading package wordnet_ic to\n",
      "[nltk_data]    |     C:\\Users\\badje\\AppData\\Roaming\\nltk_data...\n",
      "[nltk_data]    |   Package wordnet_ic is already up-to-date!\n",
      "[nltk_data]    | Downloading package words to\n",
      "[nltk_data]    |     C:\\Users\\badje\\AppData\\Roaming\\nltk_data...\n",
      "[nltk_data]    |   Package words is already up-to-date!\n",
      "[nltk_data]    | Downloading package maxent_ne_chunker to\n",
      "[nltk_data]    |     C:\\Users\\badje\\AppData\\Roaming\\nltk_data...\n",
      "[nltk_data]    |   Package maxent_ne_chunker is already up-to-date!\n",
      "[nltk_data]    | Downloading package punkt to\n",
      "[nltk_data]    |     C:\\Users\\badje\\AppData\\Roaming\\nltk_data...\n",
      "[nltk_data]    |   Package punkt is already up-to-date!\n",
      "[nltk_data]    | Downloading package snowball_data to\n",
      "[nltk_data]    |     C:\\Users\\badje\\AppData\\Roaming\\nltk_data...\n",
      "[nltk_data]    |   Package snowball_data is already up-to-date!\n",
      "[nltk_data]    | Downloading package averaged_perceptron_tagger to\n",
      "[nltk_data]    |     C:\\Users\\badje\\AppData\\Roaming\\nltk_data...\n",
      "[nltk_data]    |   Package averaged_perceptron_tagger is already up-\n",
      "[nltk_data]    |       to-date!\n",
      "[nltk_data]    | \n",
      "[nltk_data]  Done downloading collection popular\n"
     ]
    },
    {
     "data": {
      "text/plain": [
       "True"
      ]
     },
     "execution_count": 3,
     "metadata": {},
     "output_type": "execute_result"
    }
   ],
   "source": [
    "nltk.download(\"popular\")"
   ]
  },
  {
   "cell_type": "code",
   "execution_count": 34,
   "metadata": {},
   "outputs": [],
   "source": [
    "current_dir = os.path.dirname(os.path.realpath(\"__file__\"))\n",
    "repo_dir = os.path.dirname(current_dir)\n",
    "DATA_FILE = os.path.join(repo_dir,\"data\",\"cleaned_data.csv\")\n",
    "data = pd.read_csv(DATA_FILE, encoding=\"utf-8\",sep=',')"
   ]
  },
  {
   "cell_type": "code",
   "execution_count": 36,
   "metadata": {},
   "outputs": [
    {
     "name": "stdout",
     "output_type": "stream",
     "text": [
      "soupe veloutee potimarron pommes terre\n",
      "Ingrédients : \n",
      "2 pommes terre \n",
      " 2 oignons haches \n",
      "  3 gousses ail hachees \n",
      "  10 cl creme fraiche \n",
      "  1 c.a.c curry \n",
      "  1 pincee muscade \n",
      " 1 feuille laurier \n",
      " 1 potimarron \n",
      " 1 cube bouillon poule\n",
      "Ustensiles :\n",
      "louche mixeur plongeant blender chauffant couteau econome poele couvercle mixeur mijoteuse electrique balance cuisine\n",
      "Instructions :\n",
      " enlever ecorce pepins potimarron obligatoire peler cas choisir bio bien laver couper chair gros morceaux \n",
      " eplucher pommes terre couper gros morceaux \n",
      " faire revenir oignons ail haches beurre feu doux \n",
      " ajouter pommes terre potimarron faire revenir 5 min \n",
      " couvrir eau ajouter bouillon poule emiette curry muscade feuille laurier mijoter 30 min feu doux \n",
      " legumes cuits verifier aide couteau mixer preparation \n",
      " verifier assaisonnement saler poivrer gout ajouter creme fraiche mijoter 2 3 min bon appetit\n"
     ]
    }
   ],
   "source": [
    "print(data[\"recettes\"][0])"
   ]
  },
  {
   "cell_type": "code",
   "execution_count": 5,
   "metadata": {},
   "outputs": [
    {
     "data": {
      "text/html": [
       "<div>\n",
       "<style scoped>\n",
       "    .dataframe tbody tr th:only-of-type {\n",
       "        vertical-align: middle;\n",
       "    }\n",
       "\n",
       "    .dataframe tbody tr th {\n",
       "        vertical-align: top;\n",
       "    }\n",
       "\n",
       "    .dataframe thead th {\n",
       "        text-align: right;\n",
       "    }\n",
       "</style>\n",
       "<table border=\"1\" class=\"dataframe\">\n",
       "  <thead>\n",
       "    <tr style=\"text-align: right;\">\n",
       "      <th></th>\n",
       "      <th>Nom</th>\n",
       "      <th>Duree</th>\n",
       "      <th>Personnes</th>\n",
       "      <th>Type</th>\n",
       "      <th>Ingredients</th>\n",
       "      <th>Ustensiles</th>\n",
       "      <th>Etapes</th>\n",
       "    </tr>\n",
       "  </thead>\n",
       "  <tbody>\n",
       "    <tr>\n",
       "      <th>24069</th>\n",
       "      <td>Pâtes à la \"carbonara\" à la française</td>\n",
       "      <td>20 min</td>\n",
       "      <td>4</td>\n",
       "      <td>Plat principal</td>\n",
       "      <td>['500g', 'de pâtes ', '50cl', 'de crème fraîch...</td>\n",
       "      <td>['Top 5 des meilleures passoires', 'Set 3 poêl...</td>\n",
       "      <td>[{'Étape 1': \"Cuire les pâtes dans un grand vo...</td>\n",
       "    </tr>\n",
       "    <tr>\n",
       "      <th>10684</th>\n",
       "      <td>Tarte aux poireaux et aux lardons</td>\n",
       "      <td>50 min</td>\n",
       "      <td>6</td>\n",
       "      <td>Entrée</td>\n",
       "      <td>['250g', 'de farine ', '140g', 'de beurre ', '...</td>\n",
       "      <td>['Moule à tarte', 'Four', 'couteau', 'pinceau'...</td>\n",
       "      <td>[{'Étape 1': 'Préchauffer le four à 210°C (the...</td>\n",
       "    </tr>\n",
       "    <tr>\n",
       "      <th>31615</th>\n",
       "      <td>Flan pâtissier traditionnel</td>\n",
       "      <td>1 h</td>\n",
       "      <td>8</td>\n",
       "      <td>Dessert</td>\n",
       "      <td>['11', 'pâte brisée ', '1l', 'de lait ', '150g...</td>\n",
       "      <td>['Tamis', 'Cuillère en bois', 'Four', 'Moule à...</td>\n",
       "      <td>[{'Étape 1': 'Faire bouillir le lait avec la g...</td>\n",
       "    </tr>\n",
       "    <tr>\n",
       "      <th>3712</th>\n",
       "      <td>Salade César</td>\n",
       "      <td>20 min</td>\n",
       "      <td>4</td>\n",
       "      <td>Entrée</td>\n",
       "      <td>['25g', 'de parmesan râpé ', '2c.à.c', 'c.à.c'...</td>\n",
       "      <td>['pinceau', 'saladier', 'Mixeur', 'bol']</td>\n",
       "      <td>[{'Étape 1': \"Faites dorer le pain, coupé en c...</td>\n",
       "    </tr>\n",
       "    <tr>\n",
       "      <th>34731</th>\n",
       "      <td>Crème anglaise réussie, onctueuse à souhait</td>\n",
       "      <td>25 min</td>\n",
       "      <td>50</td>\n",
       "      <td>Dessert</td>\n",
       "      <td>['50g', 'de sucre ', '50cl', 'de lait demi-écr...</td>\n",
       "      <td>['casserole', 'Fouet cuisine', 'saladier', 'Cu...</td>\n",
       "      <td>[{'Étape 1': \"Porter à ébullition le lait en a...</td>\n",
       "    </tr>\n",
       "  </tbody>\n",
       "</table>\n",
       "</div>"
      ],
      "text/plain": [
       "                                               Nom   Duree  Personnes  \\\n",
       "24069        Pâtes à la \"carbonara\" à la française  20 min          4   \n",
       "10684            Tarte aux poireaux et aux lardons  50 min          6   \n",
       "31615                  Flan pâtissier traditionnel     1 h          8   \n",
       "3712                                  Salade César  20 min          4   \n",
       "34731  Crème anglaise réussie, onctueuse à souhait  25 min         50   \n",
       "\n",
       "                 Type                                        Ingredients  \\\n",
       "24069  Plat principal  ['500g', 'de pâtes ', '50cl', 'de crème fraîch...   \n",
       "10684          Entrée  ['250g', 'de farine ', '140g', 'de beurre ', '...   \n",
       "31615         Dessert  ['11', 'pâte brisée ', '1l', 'de lait ', '150g...   \n",
       "3712           Entrée  ['25g', 'de parmesan râpé ', '2c.à.c', 'c.à.c'...   \n",
       "34731         Dessert  ['50g', 'de sucre ', '50cl', 'de lait demi-écr...   \n",
       "\n",
       "                                              Ustensiles  \\\n",
       "24069  ['Top 5 des meilleures passoires', 'Set 3 poêl...   \n",
       "10684  ['Moule à tarte', 'Four', 'couteau', 'pinceau'...   \n",
       "31615  ['Tamis', 'Cuillère en bois', 'Four', 'Moule à...   \n",
       "3712            ['pinceau', 'saladier', 'Mixeur', 'bol']   \n",
       "34731  ['casserole', 'Fouet cuisine', 'saladier', 'Cu...   \n",
       "\n",
       "                                                  Etapes  \n",
       "24069  [{'Étape 1': \"Cuire les pâtes dans un grand vo...  \n",
       "10684  [{'Étape 1': 'Préchauffer le four à 210°C (the...  \n",
       "31615  [{'Étape 1': 'Faire bouillir le lait avec la g...  \n",
       "3712   [{'Étape 1': \"Faites dorer le pain, coupé en c...  \n",
       "34731  [{'Étape 1': \"Porter à ébullition le lait en a...  "
      ]
     },
     "execution_count": 5,
     "metadata": {},
     "output_type": "execute_result"
    }
   ],
   "source": [
    "data.sample(5)"
   ]
  },
  {
   "cell_type": "code",
   "execution_count": 6,
   "metadata": {},
   "outputs": [],
   "source": [
    "def split_quantity_units(text):\n",
    "    if re.match(r\"^\\d.*[a-zA-Z]$\",text) is not None:\n",
    "        my_list = re.split(r'(\\d+)', text)\n",
    "        return \" \".join(my_list)\n",
    "    return text"
   ]
  },
  {
   "cell_type": "code",
   "execution_count": 7,
   "metadata": {},
   "outputs": [],
   "source": [
    "def rm_duplicated_dgt(text:str):\n",
    "    if text.isnumeric() and len(text)%2==0 and text[:int(len(text)/2)]==text[int(len(text)/2):]:\n",
    "        return(text[:int(len(text)/2)])\n",
    "    else:\n",
    "        return(text)\n",
    "\n",
    "# rm_duplicated_dgt(text)"
   ]
  },
  {
   "cell_type": "code",
   "execution_count": 8,
   "metadata": {},
   "outputs": [],
   "source": [
    "def spacy_prep(texts):\n",
    "    cleaned_texts = []\n",
    "    docs = list(nlp.pipe(texts))\n",
    "    for doc in docs:\n",
    "        cleaned_texts.append(\" \".join([token.text for token in doc if not token.is_punct\n",
    "                                                                            and not token.is_stop\n",
    "                                                                            ]))\n",
    "    return cleaned_texts"
   ]
  },
  {
   "cell_type": "code",
   "execution_count": 9,
   "metadata": {},
   "outputs": [],
   "source": [
    "def join_qty_ingredients(ingredients:str):\n",
    "    list_ingredients = ast.literal_eval(ingredients)\n",
    "    new_ingredients = []\n",
    "    for i in range(len(list_ingredients)-1):\n",
    "        if bool(re.search(r'\\d', list_ingredients[i])):\n",
    "            list_ingredients[i] = rm_duplicated_dgt(list_ingredients[i])\n",
    "            list_ingredients[i] = split_quantity_units(list_ingredients[i])\n",
    "            if list_ingredients[i+1] != list_ingredients[i].split(\" \")[-1] and list_ingredients[i+1] != \"\":\n",
    "                new_ingredients.append(\" \".join([list_ingredients[i],list_ingredients[i+1]]))\n",
    "            else:\n",
    "                if i+2 <= len(list_ingredients):\n",
    "                    new_ingredients.append(\" \".join([list_ingredients[i],list_ingredients[i+2]]))\n",
    "    return \"\\n\".join(new_ingredients)"
   ]
  },
  {
   "cell_type": "code",
   "execution_count": 10,
   "metadata": {},
   "outputs": [],
   "source": [
    "def format_recipe(nom,ingredients,ustensiles,Etapes):\n",
    "    text = f\"{str(nom)}\\nIngrédients : \\n{str(ingredients)}\\nUstensiles :\\n{str(ustensiles)}\\nInstructions :\\n {str(Etapes)}\"\n",
    "    return(text)"
   ]
  },
  {
   "cell_type": "code",
   "execution_count": 10,
   "metadata": {},
   "outputs": [],
   "source": [
    "unit_abbreviation = {\n",
    "    \"c.à.s\" : \"cuillère à soupe\",\n",
    "    \"c.à.c\" : \"cuillère à café\",\n",
    "    \"g\"     : \"gramme\",\n",
    "    \"l\"     : \"litre\",\n",
    "    \"cl\"    : \"centilitre\",\n",
    "    \"ml\"    : \"millilitre\",\n",
    "    \"kg\"    : \"kilogramme\",\n",
    "}"
   ]
  },
  {
   "cell_type": "code",
   "execution_count": 11,
   "metadata": {},
   "outputs": [
    {
     "name": "stdout",
     "output_type": "stream",
     "text": [
      " 1 kg de champignon « trompettes de la mort »\n",
      " 2 c.à.s d'huile d'olive \n",
      " 1 gousse d'ail hachée\n",
      " 1 ⁄ 2 botte de persil haché\n"
     ]
    }
   ],
   "source": [
    "print(join_qty_ingredients(data[\"Ingredients\"][20]))"
   ]
  },
  {
   "cell_type": "code",
   "execution_count": 12,
   "metadata": {},
   "outputs": [],
   "source": [
    "def remove_accents(text:str):\n",
    "    text = re.sub(r'[àáâãäå]', 'a', text)\n",
    "    text = re.sub(r'[èéêë]', 'e', text)\n",
    "    text = re.sub(r'[ìíîï]', 'i', text)\n",
    "    text = re.sub(r'[òóôõö]', 'o', text)\n",
    "    text = re.sub(r'[ùúûü]', 'u', text)\n",
    "    return(text)"
   ]
  },
  {
   "cell_type": "code",
   "execution_count": 29,
   "metadata": {},
   "outputs": [
    {
     "name": "stdout",
     "output_type": "stream",
     "text": [
      "Enlever l'écorce et les pépins du potimarron (il n'est pas obligatoire de le peler, mais dans ce cas, le choisir bio et bien le laver) puis couper la chair en gros morceaux.\n",
      "Eplucher les pommes de terre puis les couper en gros morceaux.\n",
      "Faire revenir les oignons et l'ail hachés dans un peu de beurre à feu doux.\n",
      "Ajouter les pommes de terre et le potimarron, faire revenir 5 min.\n",
      "Couvrir le tout d'eau, ajouter le bouillon de poule (émietté), le curry, la muscade, la feuille de laurier et laisser mijoter environ 30 min à feu doux.\n",
      "Lorsque les légumes sont cuits (vérifier à l'aide d'un couteau), mixer votre préparation.\n",
      "Vérifier l'assaisonnement, saler, poivrer selon votre goût puis ajouter la crème fraîche et laisser mijoter encore 2 ou 3 min. Bon appétit !\n"
     ]
    }
   ],
   "source": [
    "instructions = ast.literal_eval(data[\"Etapes\"][0])\n",
    "# print(\"\\n\".join(instructions))\n",
    "instructions = [list(d.values())[0] for d in instructions]\n",
    "print(\"\\n\".join(instructions))"
   ]
  },
  {
   "cell_type": "code",
   "execution_count": 17,
   "metadata": {},
   "outputs": [
    {
     "name": "stderr",
     "output_type": "stream",
     "text": [
      "100%|██████████| 2/2 [00:00<00:00, 1997.29it/s]"
     ]
    },
    {
     "name": "stdout",
     "output_type": "stream",
     "text": [
      "soupe veloutée de potimarron et pommes de terre\n",
      "Ingrédients : \n",
      "['22', 'pommes de terre ', '22', 'oignons hachés', '3gousses', \"d'ail hachées\", '10cl', 'de crème fraîche ', '1c.à.c', 'c.à.c', 'de curry ', '1pincée', 'de muscade ', '11', 'feuille de laurier ', '', 'sel ', '', 'poivre ', '11', 'potimarron ', '11', 'cube de bouillon de poule']\n",
      "Ustensiles :\n",
      "['louche', 'mixeur plongeant', 'Blender chauffant', 'Couteau', 'économe', 'pôele', 'Couvercle', 'Mixeur', 'Mijoteuse électrique', 'balance de cuisine']\n",
      "Instructions :\n",
      " [{'Étape 1': \"Enlever l'écorce et les pépins du potimarron (il n'est pas obligatoire de le peler, mais dans ce cas, le choisir bio et bien le laver) puis couper la chair en gros morceaux.\"}, {'Étape 2': 'Eplucher les pommes de terre puis les couper en gros morceaux.'}, {'Étape 3': \"Faire revenir les oignons et l'ail hachés dans un peu de beurre à feu doux.\"}, {'Étape 4': 'Ajouter les pommes de terre et le potimarron, faire revenir 5 min.'}, {'Étape 5': \"Couvrir le tout d'eau, ajouter le bouillon de poule (émietté), le curry, la muscade, la feuille de laurier et laisser mijoter environ 30 min à feu doux.\"}, {'Étape 6': \"Lorsque les légumes sont cuits (vérifier à l'aide d'un couteau), mixer votre préparation.\"}, {'Étape 7': \"Vérifier l'assaisonnement, saler, poivrer selon votre goût puis ajouter la crème fraîche et laisser mijoter encore 2 ou 3 min. Bon appétit !\"}]\n",
      "soupe à l'oignon\n",
      "Ingrédients : \n",
      "['44', 'oignons ', '50g', 'de beurre ', '1c.à.s', 'c.à.s', \"d'huile \", '1c.à.s', 'c.à.s', 'de farine ', '25cl', 'de vin blanc ', '1l', \"d'eau \", '6tranches', 'de pain de mie ', '100g', 'de comté râpé', '', 'sel ', '', 'poivre ']\n",
      "Ustensiles :\n",
      "['louche', 'mixeur plongeant', 'Blender chauffant', 'saladier', 'Top des meilleures plaques à four', 'four', 'bol', 'Râpe', 'Mijoteuse électrique', 'balance de cuisine']\n",
      "Instructions :\n",
      " [{'Étape 1': 'Pelez et émincez les oignons.'}, {'Étape 2': \"Faites-les revenir dans le mélange beurre et huile jusqu'à ce qu'ils soient tendres et légèrement dorés.\"}, {'Étape 3': \"Saupoudrez le mélange de farine, mouillez d'eau chaude et de vin blanc et assaisonnez.\"}, {'Étape 4': 'Couvrez et laissez bouillonner doucement pendant 20 minutes.'}, {'Étape 5': 'Faites grillez le pain.'}, {'Étape 6': 'Disposez chaque tranche dans le fond de 4 petits bols individuels supportant le passage au four.'}, {'Étape 7': \"Saupoudrez d'un peu de fromage râpé. Versez la soupe par-dessus.\"}, {'Étape 8': 'Saupoudrez à nouveau de fromage et faites gratiner.'}]\n"
     ]
    },
    {
     "name": "stderr",
     "output_type": "stream",
     "text": [
      "\n"
     ]
    }
   ],
   "source": [
    "recipes = []\n",
    "TEXT_FEATURES = [\"Nom\",\"Ingredients\",\"Ustensiles\",\"Etapes\"]\n",
    "CATEGORICAL_FEATURES = [\"Type\"]\n",
    "for i in tqdm(range(2)):\n",
    "    nom,ingredients,ustensiles,Etapes = (data[key][i] for key in TEXT_FEATURES)\n",
    "    print(format_recipe(nom,ingredients,ustensiles,Etapes))\n",
    "    # recipes.append(format_recipe(nom,ingredients,ustensiles,Etapes))\n",
    "\n"
   ]
  },
  {
   "cell_type": "code",
   "execution_count": 31,
   "metadata": {},
   "outputs": [],
   "source": [
    "def clean_instructions(instructions:str):\n",
    "    instruct = ast.literal_eval(instructions)\n",
    "    instruct = [list(d.values())[0] for d in instruct]\n",
    "    return instruct\n"
   ]
  },
  {
   "cell_type": "code",
   "execution_count": 32,
   "metadata": {},
   "outputs": [],
   "source": [
    "def preprocessing_fn(data:pd.DataFrame):\n",
    "    # data = df.copy()\n",
    "    TEXT_FEATURES = [\"Nom\",\"Ingredients\",\"Ustensiles\",\"Etapes\"]\n",
    "    CATEGORICAL_FEATURES = [\"Type\"]\n",
    "    \n",
    "    for key in tqdm(TEXT_FEATURES):\n",
    "        data[key] = data[key].apply(lambda x:x.lower())\n",
    "        data[key] = data[key].apply(lambda x: remove_accents(x))\n",
    "        if key == \"Ingredients\":\n",
    "            data[key] = data[key].apply(lambda x:join_qty_ingredients(x))\n",
    "        if key == \"Etapes\":\n",
    "            data[key] = data[key].apply(lambda x:clean_instructions(x))\n",
    "\n",
    "        data[key] = spacy_prep(data[key].to_numpy())\n",
    "\n",
    "    recipes = []\n",
    "    for i in tqdm(range(len(data))):\n",
    "        nom,ingredients,ustensiles,Etapes = (data[key][i] for key in TEXT_FEATURES)\n",
    "        recipes.append(format_recipe(nom,ingredients,ustensiles,Etapes))\n",
    "    data[\"recettes\"] = recipes\n",
    "\n",
    "    for key in tqdm(CATEGORICAL_FEATURES):\n",
    "        features =data[key].unique()\n",
    "        encoder = LabelEncoder()\n",
    "        encoder.fit(features)\n",
    "        data[key] = encoder.transform(data[\"Type\"])\n",
    "\n",
    "   \n",
    "    return data"
   ]
  },
  {
   "cell_type": "code",
   "execution_count": 33,
   "metadata": {},
   "outputs": [
    {
     "name": "stderr",
     "output_type": "stream",
     "text": [
      "  0%|          | 0/4 [00:08<?, ?it/s]\n"
     ]
    },
    {
     "ename": "KeyboardInterrupt",
     "evalue": "",
     "output_type": "error",
     "traceback": [
      "\u001b[1;31m---------------------------------------------------------------------------\u001b[0m",
      "\u001b[1;31mKeyboardInterrupt\u001b[0m                         Traceback (most recent call last)",
      "Cell \u001b[1;32mIn[33], line 1\u001b[0m\n\u001b[1;32m----> 1\u001b[0m cleaned_data \u001b[39m=\u001b[39m preprocessing_fn(data)\n",
      "Cell \u001b[1;32mIn[32], line 14\u001b[0m, in \u001b[0;36mpreprocessing_fn\u001b[1;34m(data)\u001b[0m\n\u001b[0;32m     11\u001b[0m     \u001b[39mif\u001b[39;00m key \u001b[39m==\u001b[39m \u001b[39m\"\u001b[39m\u001b[39mEtapes\u001b[39m\u001b[39m\"\u001b[39m:\n\u001b[0;32m     12\u001b[0m         data[key] \u001b[39m=\u001b[39m data[key]\u001b[39m.\u001b[39mapply(\u001b[39mlambda\u001b[39;00m x:clean_instructions(x))\n\u001b[1;32m---> 14\u001b[0m     data[key] \u001b[39m=\u001b[39m spacy_prep(data[key]\u001b[39m.\u001b[39;49mto_numpy())\n\u001b[0;32m     16\u001b[0m recipes \u001b[39m=\u001b[39m []\n\u001b[0;32m     17\u001b[0m \u001b[39mfor\u001b[39;00m i \u001b[39min\u001b[39;00m tqdm(\u001b[39mrange\u001b[39m(\u001b[39mlen\u001b[39m(data))):\n",
      "Cell \u001b[1;32mIn[8], line 3\u001b[0m, in \u001b[0;36mspacy_prep\u001b[1;34m(texts)\u001b[0m\n\u001b[0;32m      1\u001b[0m \u001b[39mdef\u001b[39;00m \u001b[39mspacy_prep\u001b[39m(texts):\n\u001b[0;32m      2\u001b[0m     cleaned_texts \u001b[39m=\u001b[39m []\n\u001b[1;32m----> 3\u001b[0m     docs \u001b[39m=\u001b[39m \u001b[39mlist\u001b[39;49m(nlp\u001b[39m.\u001b[39;49mpipe(texts))\n\u001b[0;32m      4\u001b[0m     \u001b[39mfor\u001b[39;00m doc \u001b[39min\u001b[39;00m docs:\n\u001b[0;32m      5\u001b[0m         cleaned_texts\u001b[39m.\u001b[39mappend(\u001b[39m\"\u001b[39m\u001b[39m \u001b[39m\u001b[39m\"\u001b[39m\u001b[39m.\u001b[39mjoin([token\u001b[39m.\u001b[39mtext \u001b[39mfor\u001b[39;00m token \u001b[39min\u001b[39;00m doc \u001b[39mif\u001b[39;00m \u001b[39mnot\u001b[39;00m token\u001b[39m.\u001b[39mis_punct\n\u001b[0;32m      6\u001b[0m                                                                             \u001b[39mand\u001b[39;00m \u001b[39mnot\u001b[39;00m token\u001b[39m.\u001b[39mis_stop\n\u001b[0;32m      7\u001b[0m                                                                             ]))\n",
      "File \u001b[1;32mc:\\Users\\badje\\OneDrive\\Bureau\\Cours_M2\\NLP\\projet\\Recipe_generator\\venv\\lib\\site-packages\\spacy\\language.py:1589\u001b[0m, in \u001b[0;36mLanguage.pipe\u001b[1;34m(self, texts, as_tuples, batch_size, disable, component_cfg, n_process)\u001b[0m\n\u001b[0;32m   1587\u001b[0m     \u001b[39mfor\u001b[39;00m pipe \u001b[39min\u001b[39;00m pipes:\n\u001b[0;32m   1588\u001b[0m         docs \u001b[39m=\u001b[39m pipe(docs)\n\u001b[1;32m-> 1589\u001b[0m \u001b[39mfor\u001b[39;00m doc \u001b[39min\u001b[39;00m docs:\n\u001b[0;32m   1590\u001b[0m     \u001b[39myield\u001b[39;00m doc\n",
      "File \u001b[1;32mc:\\Users\\badje\\OneDrive\\Bureau\\Cours_M2\\NLP\\projet\\Recipe_generator\\venv\\lib\\site-packages\\spacy\\util.py:1651\u001b[0m, in \u001b[0;36m_pipe\u001b[1;34m(docs, proc, name, default_error_handler, kwargs)\u001b[0m\n\u001b[0;32m   1643\u001b[0m \u001b[39mdef\u001b[39;00m \u001b[39m_pipe\u001b[39m(\n\u001b[0;32m   1644\u001b[0m     docs: Iterable[\u001b[39m\"\u001b[39m\u001b[39mDoc\u001b[39m\u001b[39m\"\u001b[39m],\n\u001b[0;32m   1645\u001b[0m     proc: \u001b[39m\"\u001b[39m\u001b[39mPipe\u001b[39m\u001b[39m\"\u001b[39m,\n\u001b[1;32m   (...)\u001b[0m\n\u001b[0;32m   1648\u001b[0m     kwargs: Mapping[\u001b[39mstr\u001b[39m, Any],\n\u001b[0;32m   1649\u001b[0m ) \u001b[39m-\u001b[39m\u001b[39m>\u001b[39m Iterator[\u001b[39m\"\u001b[39m\u001b[39mDoc\u001b[39m\u001b[39m\"\u001b[39m]:\n\u001b[0;32m   1650\u001b[0m     \u001b[39mif\u001b[39;00m \u001b[39mhasattr\u001b[39m(proc, \u001b[39m\"\u001b[39m\u001b[39mpipe\u001b[39m\u001b[39m\"\u001b[39m):\n\u001b[1;32m-> 1651\u001b[0m         \u001b[39myield from\u001b[39;00m proc\u001b[39m.\u001b[39mpipe(docs, \u001b[39m*\u001b[39m\u001b[39m*\u001b[39mkwargs)\n\u001b[0;32m   1652\u001b[0m     \u001b[39melse\u001b[39;00m:\n\u001b[0;32m   1653\u001b[0m         \u001b[39m# We added some args for pipe that __call__ doesn't expect.\u001b[39;00m\n\u001b[0;32m   1654\u001b[0m         kwargs \u001b[39m=\u001b[39m \u001b[39mdict\u001b[39m(kwargs)\n",
      "File \u001b[1;32mc:\\Users\\badje\\OneDrive\\Bureau\\Cours_M2\\NLP\\projet\\Recipe_generator\\venv\\lib\\site-packages\\spacy\\pipeline\\transition_parser.pyx:233\u001b[0m, in \u001b[0;36mpipe\u001b[1;34m()\u001b[0m\n",
      "File \u001b[1;32mc:\\Users\\badje\\OneDrive\\Bureau\\Cours_M2\\NLP\\projet\\Recipe_generator\\venv\\lib\\site-packages\\spacy\\util.py:1600\u001b[0m, in \u001b[0;36mminibatch\u001b[1;34m(items, size)\u001b[0m\n\u001b[0;32m   1598\u001b[0m \u001b[39mwhile\u001b[39;00m \u001b[39mTrue\u001b[39;00m:\n\u001b[0;32m   1599\u001b[0m     batch_size \u001b[39m=\u001b[39m \u001b[39mnext\u001b[39m(size_)\n\u001b[1;32m-> 1600\u001b[0m     batch \u001b[39m=\u001b[39m \u001b[39mlist\u001b[39;49m(itertools\u001b[39m.\u001b[39;49mislice(items, \u001b[39mint\u001b[39;49m(batch_size)))\n\u001b[0;32m   1601\u001b[0m     \u001b[39mif\u001b[39;00m \u001b[39mlen\u001b[39m(batch) \u001b[39m==\u001b[39m \u001b[39m0\u001b[39m:\n\u001b[0;32m   1602\u001b[0m         \u001b[39mbreak\u001b[39;00m\n",
      "File \u001b[1;32mc:\\Users\\badje\\OneDrive\\Bureau\\Cours_M2\\NLP\\projet\\Recipe_generator\\venv\\lib\\site-packages\\spacy\\util.py:1651\u001b[0m, in \u001b[0;36m_pipe\u001b[1;34m(docs, proc, name, default_error_handler, kwargs)\u001b[0m\n\u001b[0;32m   1643\u001b[0m \u001b[39mdef\u001b[39;00m \u001b[39m_pipe\u001b[39m(\n\u001b[0;32m   1644\u001b[0m     docs: Iterable[\u001b[39m\"\u001b[39m\u001b[39mDoc\u001b[39m\u001b[39m\"\u001b[39m],\n\u001b[0;32m   1645\u001b[0m     proc: \u001b[39m\"\u001b[39m\u001b[39mPipe\u001b[39m\u001b[39m\"\u001b[39m,\n\u001b[1;32m   (...)\u001b[0m\n\u001b[0;32m   1648\u001b[0m     kwargs: Mapping[\u001b[39mstr\u001b[39m, Any],\n\u001b[0;32m   1649\u001b[0m ) \u001b[39m-\u001b[39m\u001b[39m>\u001b[39m Iterator[\u001b[39m\"\u001b[39m\u001b[39mDoc\u001b[39m\u001b[39m\"\u001b[39m]:\n\u001b[0;32m   1650\u001b[0m     \u001b[39mif\u001b[39;00m \u001b[39mhasattr\u001b[39m(proc, \u001b[39m\"\u001b[39m\u001b[39mpipe\u001b[39m\u001b[39m\"\u001b[39m):\n\u001b[1;32m-> 1651\u001b[0m         \u001b[39myield from\u001b[39;00m proc\u001b[39m.\u001b[39mpipe(docs, \u001b[39m*\u001b[39m\u001b[39m*\u001b[39mkwargs)\n\u001b[0;32m   1652\u001b[0m     \u001b[39melse\u001b[39;00m:\n\u001b[0;32m   1653\u001b[0m         \u001b[39m# We added some args for pipe that __call__ doesn't expect.\u001b[39;00m\n\u001b[0;32m   1654\u001b[0m         kwargs \u001b[39m=\u001b[39m \u001b[39mdict\u001b[39m(kwargs)\n",
      "File \u001b[1;32mc:\\Users\\badje\\OneDrive\\Bureau\\Cours_M2\\NLP\\projet\\Recipe_generator\\venv\\lib\\site-packages\\spacy\\pipeline\\pipe.pyx:53\u001b[0m, in \u001b[0;36mpipe\u001b[1;34m()\u001b[0m\n",
      "File \u001b[1;32mc:\\Users\\badje\\OneDrive\\Bureau\\Cours_M2\\NLP\\projet\\Recipe_generator\\venv\\lib\\site-packages\\spacy\\util.py:1651\u001b[0m, in \u001b[0;36m_pipe\u001b[1;34m(docs, proc, name, default_error_handler, kwargs)\u001b[0m\n\u001b[0;32m   1643\u001b[0m \u001b[39mdef\u001b[39;00m \u001b[39m_pipe\u001b[39m(\n\u001b[0;32m   1644\u001b[0m     docs: Iterable[\u001b[39m\"\u001b[39m\u001b[39mDoc\u001b[39m\u001b[39m\"\u001b[39m],\n\u001b[0;32m   1645\u001b[0m     proc: \u001b[39m\"\u001b[39m\u001b[39mPipe\u001b[39m\u001b[39m\"\u001b[39m,\n\u001b[1;32m   (...)\u001b[0m\n\u001b[0;32m   1648\u001b[0m     kwargs: Mapping[\u001b[39mstr\u001b[39m, Any],\n\u001b[0;32m   1649\u001b[0m ) \u001b[39m-\u001b[39m\u001b[39m>\u001b[39m Iterator[\u001b[39m\"\u001b[39m\u001b[39mDoc\u001b[39m\u001b[39m\"\u001b[39m]:\n\u001b[0;32m   1650\u001b[0m     \u001b[39mif\u001b[39;00m \u001b[39mhasattr\u001b[39m(proc, \u001b[39m\"\u001b[39m\u001b[39mpipe\u001b[39m\u001b[39m\"\u001b[39m):\n\u001b[1;32m-> 1651\u001b[0m         \u001b[39myield from\u001b[39;00m proc\u001b[39m.\u001b[39mpipe(docs, \u001b[39m*\u001b[39m\u001b[39m*\u001b[39mkwargs)\n\u001b[0;32m   1652\u001b[0m     \u001b[39melse\u001b[39;00m:\n\u001b[0;32m   1653\u001b[0m         \u001b[39m# We added some args for pipe that __call__ doesn't expect.\u001b[39;00m\n\u001b[0;32m   1654\u001b[0m         kwargs \u001b[39m=\u001b[39m \u001b[39mdict\u001b[39m(kwargs)\n",
      "File \u001b[1;32mc:\\Users\\badje\\OneDrive\\Bureau\\Cours_M2\\NLP\\projet\\Recipe_generator\\venv\\lib\\site-packages\\spacy\\pipeline\\pipe.pyx:53\u001b[0m, in \u001b[0;36mpipe\u001b[1;34m()\u001b[0m\n",
      "File \u001b[1;32mc:\\Users\\badje\\OneDrive\\Bureau\\Cours_M2\\NLP\\projet\\Recipe_generator\\venv\\lib\\site-packages\\spacy\\util.py:1651\u001b[0m, in \u001b[0;36m_pipe\u001b[1;34m(docs, proc, name, default_error_handler, kwargs)\u001b[0m\n\u001b[0;32m   1643\u001b[0m \u001b[39mdef\u001b[39;00m \u001b[39m_pipe\u001b[39m(\n\u001b[0;32m   1644\u001b[0m     docs: Iterable[\u001b[39m\"\u001b[39m\u001b[39mDoc\u001b[39m\u001b[39m\"\u001b[39m],\n\u001b[0;32m   1645\u001b[0m     proc: \u001b[39m\"\u001b[39m\u001b[39mPipe\u001b[39m\u001b[39m\"\u001b[39m,\n\u001b[1;32m   (...)\u001b[0m\n\u001b[0;32m   1648\u001b[0m     kwargs: Mapping[\u001b[39mstr\u001b[39m, Any],\n\u001b[0;32m   1649\u001b[0m ) \u001b[39m-\u001b[39m\u001b[39m>\u001b[39m Iterator[\u001b[39m\"\u001b[39m\u001b[39mDoc\u001b[39m\u001b[39m\"\u001b[39m]:\n\u001b[0;32m   1650\u001b[0m     \u001b[39mif\u001b[39;00m \u001b[39mhasattr\u001b[39m(proc, \u001b[39m\"\u001b[39m\u001b[39mpipe\u001b[39m\u001b[39m\"\u001b[39m):\n\u001b[1;32m-> 1651\u001b[0m         \u001b[39myield from\u001b[39;00m proc\u001b[39m.\u001b[39mpipe(docs, \u001b[39m*\u001b[39m\u001b[39m*\u001b[39mkwargs)\n\u001b[0;32m   1652\u001b[0m     \u001b[39melse\u001b[39;00m:\n\u001b[0;32m   1653\u001b[0m         \u001b[39m# We added some args for pipe that __call__ doesn't expect.\u001b[39;00m\n\u001b[0;32m   1654\u001b[0m         kwargs \u001b[39m=\u001b[39m \u001b[39mdict\u001b[39m(kwargs)\n",
      "File \u001b[1;32mc:\\Users\\badje\\OneDrive\\Bureau\\Cours_M2\\NLP\\projet\\Recipe_generator\\venv\\lib\\site-packages\\spacy\\pipeline\\transition_parser.pyx:233\u001b[0m, in \u001b[0;36mpipe\u001b[1;34m()\u001b[0m\n",
      "File \u001b[1;32mc:\\Users\\badje\\OneDrive\\Bureau\\Cours_M2\\NLP\\projet\\Recipe_generator\\venv\\lib\\site-packages\\spacy\\util.py:1600\u001b[0m, in \u001b[0;36mminibatch\u001b[1;34m(items, size)\u001b[0m\n\u001b[0;32m   1598\u001b[0m \u001b[39mwhile\u001b[39;00m \u001b[39mTrue\u001b[39;00m:\n\u001b[0;32m   1599\u001b[0m     batch_size \u001b[39m=\u001b[39m \u001b[39mnext\u001b[39m(size_)\n\u001b[1;32m-> 1600\u001b[0m     batch \u001b[39m=\u001b[39m \u001b[39mlist\u001b[39;49m(itertools\u001b[39m.\u001b[39;49mislice(items, \u001b[39mint\u001b[39;49m(batch_size)))\n\u001b[0;32m   1601\u001b[0m     \u001b[39mif\u001b[39;00m \u001b[39mlen\u001b[39m(batch) \u001b[39m==\u001b[39m \u001b[39m0\u001b[39m:\n\u001b[0;32m   1602\u001b[0m         \u001b[39mbreak\u001b[39;00m\n",
      "File \u001b[1;32mc:\\Users\\badje\\OneDrive\\Bureau\\Cours_M2\\NLP\\projet\\Recipe_generator\\venv\\lib\\site-packages\\spacy\\util.py:1651\u001b[0m, in \u001b[0;36m_pipe\u001b[1;34m(docs, proc, name, default_error_handler, kwargs)\u001b[0m\n\u001b[0;32m   1643\u001b[0m \u001b[39mdef\u001b[39;00m \u001b[39m_pipe\u001b[39m(\n\u001b[0;32m   1644\u001b[0m     docs: Iterable[\u001b[39m\"\u001b[39m\u001b[39mDoc\u001b[39m\u001b[39m\"\u001b[39m],\n\u001b[0;32m   1645\u001b[0m     proc: \u001b[39m\"\u001b[39m\u001b[39mPipe\u001b[39m\u001b[39m\"\u001b[39m,\n\u001b[1;32m   (...)\u001b[0m\n\u001b[0;32m   1648\u001b[0m     kwargs: Mapping[\u001b[39mstr\u001b[39m, Any],\n\u001b[0;32m   1649\u001b[0m ) \u001b[39m-\u001b[39m\u001b[39m>\u001b[39m Iterator[\u001b[39m\"\u001b[39m\u001b[39mDoc\u001b[39m\u001b[39m\"\u001b[39m]:\n\u001b[0;32m   1650\u001b[0m     \u001b[39mif\u001b[39;00m \u001b[39mhasattr\u001b[39m(proc, \u001b[39m\"\u001b[39m\u001b[39mpipe\u001b[39m\u001b[39m\"\u001b[39m):\n\u001b[1;32m-> 1651\u001b[0m         \u001b[39myield from\u001b[39;00m proc\u001b[39m.\u001b[39mpipe(docs, \u001b[39m*\u001b[39m\u001b[39m*\u001b[39mkwargs)\n\u001b[0;32m   1652\u001b[0m     \u001b[39melse\u001b[39;00m:\n\u001b[0;32m   1653\u001b[0m         \u001b[39m# We added some args for pipe that __call__ doesn't expect.\u001b[39;00m\n\u001b[0;32m   1654\u001b[0m         kwargs \u001b[39m=\u001b[39m \u001b[39mdict\u001b[39m(kwargs)\n",
      "File \u001b[1;32mc:\\Users\\badje\\OneDrive\\Bureau\\Cours_M2\\NLP\\projet\\Recipe_generator\\venv\\lib\\site-packages\\spacy\\pipeline\\trainable_pipe.pyx:75\u001b[0m, in \u001b[0;36mpipe\u001b[1;34m()\u001b[0m\n",
      "File \u001b[1;32mc:\\Users\\badje\\OneDrive\\Bureau\\Cours_M2\\NLP\\projet\\Recipe_generator\\venv\\lib\\site-packages\\spacy\\pipeline\\tagger.pyx:143\u001b[0m, in \u001b[0;36mspacy.pipeline.tagger.Tagger.predict\u001b[1;34m()\u001b[0m\n",
      "File \u001b[1;32mc:\\Users\\badje\\OneDrive\\Bureau\\Cours_M2\\NLP\\projet\\Recipe_generator\\venv\\lib\\site-packages\\thinc\\model.py:315\u001b[0m, in \u001b[0;36mModel.predict\u001b[1;34m(self, X)\u001b[0m\n\u001b[0;32m    311\u001b[0m \u001b[39mdef\u001b[39;00m \u001b[39mpredict\u001b[39m(\u001b[39mself\u001b[39m, X: InT) \u001b[39m-\u001b[39m\u001b[39m>\u001b[39m OutT:\n\u001b[0;32m    312\u001b[0m     \u001b[39m\"\"\"Call the model's `forward` function with `is_train=False`, and return\u001b[39;00m\n\u001b[0;32m    313\u001b[0m \u001b[39m    only the output, instead of the `(output, callback)` tuple.\u001b[39;00m\n\u001b[0;32m    314\u001b[0m \u001b[39m    \"\"\"\u001b[39;00m\n\u001b[1;32m--> 315\u001b[0m     \u001b[39mreturn\u001b[39;00m \u001b[39mself\u001b[39;49m\u001b[39m.\u001b[39;49m_func(\u001b[39mself\u001b[39;49m, X, is_train\u001b[39m=\u001b[39;49m\u001b[39mFalse\u001b[39;49;00m)[\u001b[39m0\u001b[39m]\n",
      "File \u001b[1;32mc:\\Users\\badje\\OneDrive\\Bureau\\Cours_M2\\NLP\\projet\\Recipe_generator\\venv\\lib\\site-packages\\thinc\\layers\\chain.py:55\u001b[0m, in \u001b[0;36mforward\u001b[1;34m(model, X, is_train)\u001b[0m\n\u001b[0;32m     53\u001b[0m callbacks \u001b[39m=\u001b[39m []\n\u001b[0;32m     54\u001b[0m \u001b[39mfor\u001b[39;00m layer \u001b[39min\u001b[39;00m model\u001b[39m.\u001b[39mlayers:\n\u001b[1;32m---> 55\u001b[0m     Y, inc_layer_grad \u001b[39m=\u001b[39m layer(X, is_train\u001b[39m=\u001b[39;49mis_train)\n\u001b[0;32m     56\u001b[0m     callbacks\u001b[39m.\u001b[39mappend(inc_layer_grad)\n\u001b[0;32m     57\u001b[0m     X \u001b[39m=\u001b[39m Y\n",
      "File \u001b[1;32mc:\\Users\\badje\\OneDrive\\Bureau\\Cours_M2\\NLP\\projet\\Recipe_generator\\venv\\lib\\site-packages\\thinc\\model.py:291\u001b[0m, in \u001b[0;36mModel.__call__\u001b[1;34m(self, X, is_train)\u001b[0m\n\u001b[0;32m    288\u001b[0m \u001b[39mdef\u001b[39;00m \u001b[39m__call__\u001b[39m(\u001b[39mself\u001b[39m, X: InT, is_train: \u001b[39mbool\u001b[39m) \u001b[39m-\u001b[39m\u001b[39m>\u001b[39m Tuple[OutT, Callable]:\n\u001b[0;32m    289\u001b[0m     \u001b[39m\"\"\"Call the model's `forward` function, returning the output and a\u001b[39;00m\n\u001b[0;32m    290\u001b[0m \u001b[39m    callback to compute the gradients via backpropagation.\"\"\"\u001b[39;00m\n\u001b[1;32m--> 291\u001b[0m     \u001b[39mreturn\u001b[39;00m \u001b[39mself\u001b[39;49m\u001b[39m.\u001b[39;49m_func(\u001b[39mself\u001b[39;49m, X, is_train\u001b[39m=\u001b[39;49mis_train)\n",
      "File \u001b[1;32mc:\\Users\\badje\\OneDrive\\Bureau\\Cours_M2\\NLP\\projet\\Recipe_generator\\venv\\lib\\site-packages\\thinc\\layers\\with_array.py:38\u001b[0m, in \u001b[0;36mforward\u001b[1;34m(model, Xseq, is_train)\u001b[0m\n\u001b[0;32m     36\u001b[0m     \u001b[39mreturn\u001b[39;00m model\u001b[39m.\u001b[39mlayers[\u001b[39m0\u001b[39m](Xseq, is_train)\n\u001b[0;32m     37\u001b[0m \u001b[39melse\u001b[39;00m:\n\u001b[1;32m---> 38\u001b[0m     \u001b[39mreturn\u001b[39;00m cast(Tuple[SeqT, Callable], _list_forward(model, Xseq, is_train))\n",
      "File \u001b[1;32mc:\\Users\\badje\\OneDrive\\Bureau\\Cours_M2\\NLP\\projet\\Recipe_generator\\venv\\lib\\site-packages\\thinc\\layers\\with_array.py:73\u001b[0m, in \u001b[0;36m_list_forward\u001b[1;34m(model, Xs, is_train)\u001b[0m\n\u001b[0;32m     71\u001b[0m lengths \u001b[39m=\u001b[39m layer\u001b[39m.\u001b[39mops\u001b[39m.\u001b[39masarray1i([\u001b[39mlen\u001b[39m(seq) \u001b[39mfor\u001b[39;00m seq \u001b[39min\u001b[39;00m Xs])\n\u001b[0;32m     72\u001b[0m Xf \u001b[39m=\u001b[39m layer\u001b[39m.\u001b[39mops\u001b[39m.\u001b[39mflatten(Xs, pad\u001b[39m=\u001b[39mpad)\n\u001b[1;32m---> 73\u001b[0m Yf, get_dXf \u001b[39m=\u001b[39m layer(Xf, is_train)\n\u001b[0;32m     75\u001b[0m \u001b[39mdef\u001b[39;00m \u001b[39mbackprop\u001b[39m(dYs: ListXd) \u001b[39m-\u001b[39m\u001b[39m>\u001b[39m ListXd:\n\u001b[0;32m     76\u001b[0m     dYf \u001b[39m=\u001b[39m layer\u001b[39m.\u001b[39mops\u001b[39m.\u001b[39mflatten(dYs, pad\u001b[39m=\u001b[39mpad)\n",
      "File \u001b[1;32mc:\\Users\\badje\\OneDrive\\Bureau\\Cours_M2\\NLP\\projet\\Recipe_generator\\venv\\lib\\site-packages\\thinc\\model.py:291\u001b[0m, in \u001b[0;36mModel.__call__\u001b[1;34m(self, X, is_train)\u001b[0m\n\u001b[0;32m    288\u001b[0m \u001b[39mdef\u001b[39;00m \u001b[39m__call__\u001b[39m(\u001b[39mself\u001b[39m, X: InT, is_train: \u001b[39mbool\u001b[39m) \u001b[39m-\u001b[39m\u001b[39m>\u001b[39m Tuple[OutT, Callable]:\n\u001b[0;32m    289\u001b[0m     \u001b[39m\"\"\"Call the model's `forward` function, returning the output and a\u001b[39;00m\n\u001b[0;32m    290\u001b[0m \u001b[39m    callback to compute the gradients via backpropagation.\"\"\"\u001b[39;00m\n\u001b[1;32m--> 291\u001b[0m     \u001b[39mreturn\u001b[39;00m \u001b[39mself\u001b[39;49m\u001b[39m.\u001b[39;49m_func(\u001b[39mself\u001b[39;49m, X, is_train\u001b[39m=\u001b[39;49mis_train)\n",
      "File \u001b[1;32mc:\\Users\\badje\\OneDrive\\Bureau\\Cours_M2\\NLP\\projet\\Recipe_generator\\venv\\lib\\site-packages\\thinc\\layers\\softmax.py:72\u001b[0m, in \u001b[0;36mforward\u001b[1;34m(model, X, is_train)\u001b[0m\n\u001b[0;32m     70\u001b[0m W \u001b[39m=\u001b[39m cast(Floats2d, model\u001b[39m.\u001b[39mget_param(\u001b[39m\"\u001b[39m\u001b[39mW\u001b[39m\u001b[39m\"\u001b[39m))\n\u001b[0;32m     71\u001b[0m b \u001b[39m=\u001b[39m cast(Floats1d, model\u001b[39m.\u001b[39mget_param(\u001b[39m\"\u001b[39m\u001b[39mb\u001b[39m\u001b[39m\"\u001b[39m))\n\u001b[1;32m---> 72\u001b[0m Y \u001b[39m=\u001b[39m model\u001b[39m.\u001b[39;49mops\u001b[39m.\u001b[39;49maffine(X, W, b)\n\u001b[0;32m     74\u001b[0m \u001b[39mif\u001b[39;00m normalize:\n\u001b[0;32m     75\u001b[0m     Y \u001b[39m=\u001b[39m model\u001b[39m.\u001b[39mops\u001b[39m.\u001b[39msoftmax(Y, temperature\u001b[39m=\u001b[39mtemperature)\n",
      "\u001b[1;31mKeyboardInterrupt\u001b[0m: "
     ]
    }
   ],
   "source": [
    "cleaned_data = preprocessing_fn(data)"
   ]
  },
  {
   "cell_type": "code",
   "execution_count": 59,
   "metadata": {},
   "outputs": [
    {
     "data": {
      "text/html": [
       "<div>\n",
       "<style scoped>\n",
       "    .dataframe tbody tr th:only-of-type {\n",
       "        vertical-align: middle;\n",
       "    }\n",
       "\n",
       "    .dataframe tbody tr th {\n",
       "        vertical-align: top;\n",
       "    }\n",
       "\n",
       "    .dataframe thead th {\n",
       "        text-align: right;\n",
       "    }\n",
       "</style>\n",
       "<table border=\"1\" class=\"dataframe\">\n",
       "  <thead>\n",
       "    <tr style=\"text-align: right;\">\n",
       "      <th></th>\n",
       "      <th>Nom</th>\n",
       "      <th>Duree</th>\n",
       "      <th>Personnes</th>\n",
       "      <th>Type</th>\n",
       "      <th>Ingredients</th>\n",
       "      <th>Ustensiles</th>\n",
       "      <th>Etapes</th>\n",
       "      <th>recettes</th>\n",
       "    </tr>\n",
       "  </thead>\n",
       "  <tbody>\n",
       "    <tr>\n",
       "      <th>0</th>\n",
       "      <td>soupe veloute potimarron pomme terre</td>\n",
       "      <td>45 min</td>\n",
       "      <td>4</td>\n",
       "      <td>4</td>\n",
       "      <td>2 pomme terre 2 oignon hache   3 gousse ail ha...</td>\n",
       "      <td>louche mixeur plonger blender chauffer couteau...</td>\n",
       "      <td>etape 1 enlever ecorce pepin potimarron obliga...</td>\n",
       "      <td>soupe veloute potimarron pomme terre  2 pomme ...</td>\n",
       "    </tr>\n",
       "    <tr>\n",
       "      <th>1</th>\n",
       "      <td>soupe oignon</td>\n",
       "      <td>45 min</td>\n",
       "      <td>4</td>\n",
       "      <td>4</td>\n",
       "      <td>4 oignon   50 gramme beurre   1 c.a. huile   1...</td>\n",
       "      <td>louche mixeur plonger blender chauffer saladie...</td>\n",
       "      <td>etape 1 pelez emincer oignon etape 2 faire rev...</td>\n",
       "      <td>soupe oignon  4 oignon   50 gramme beurre   1 ...</td>\n",
       "    </tr>\n",
       "    <tr>\n",
       "      <th>2</th>\n",
       "      <td>veloute potiron</td>\n",
       "      <td>1 h 15 min</td>\n",
       "      <td>4</td>\n",
       "      <td>4</td>\n",
       "      <td>1 oignon   1 quartier potiron 1 brique creme f...</td>\n",
       "      <td>louche mixeur plonger couteau cocotte fonte po...</td>\n",
       "      <td>etape 1 couper chair potiron gros de etape 2 c...</td>\n",
       "      <td>veloute potiron  1 oignon   1 quartier potiron...</td>\n",
       "    </tr>\n",
       "    <tr>\n",
       "      <th>3</th>\n",
       "      <td>veloute butternut cannelle</td>\n",
       "      <td>35 min</td>\n",
       "      <td>4</td>\n",
       "      <td>4</td>\n",
       "      <td>1 oignon   1 c.a. creme frais   1 pincee canne...</td>\n",
       "      <td>louche mixeur plonger couteau cuillere bois po...</td>\n",
       "      <td>etape 1 couper butternut gros cube etape 2 cou...</td>\n",
       "      <td>veloute butternut cannelle  1 oignon   1 c.a. ...</td>\n",
       "    </tr>\n",
       "    <tr>\n",
       "      <th>4</th>\n",
       "      <td>tarte poireau lardon</td>\n",
       "      <td>50 min</td>\n",
       "      <td>6</td>\n",
       "      <td>4</td>\n",
       "      <td>250 gramme farine   140 gramme beurre   2 c....</td>\n",
       "      <td>moule tarte four couteau pinceau rape poele sa...</td>\n",
       "      <td>etape 1 prechauffer four 210 degre c thermosta...</td>\n",
       "      <td>tarte poireau lardon    250 gramme farine   14...</td>\n",
       "    </tr>\n",
       "    <tr>\n",
       "      <th>...</th>\n",
       "      <td>...</td>\n",
       "      <td>...</td>\n",
       "      <td>...</td>\n",
       "      <td>...</td>\n",
       "      <td>...</td>\n",
       "      <td>...</td>\n",
       "      <td>...</td>\n",
       "      <td>...</td>\n",
       "    </tr>\n",
       "    <tr>\n",
       "      <th>47335</th>\n",
       "      <td>liqueur genepi</td>\n",
       "      <td>10 min</td>\n",
       "      <td>1</td>\n",
       "      <td>2</td>\n",
       "      <td>40 morceau sucre   40 brin genepi   1 l alco...</td>\n",
       "      <td>entonnoir balance cuisine</td>\n",
       "      <td>etape 1 transvaser litre alcool gros bouteille...</td>\n",
       "      <td>liqueur genepi    40 morceau sucre   40 brin g...</td>\n",
       "    </tr>\n",
       "    <tr>\n",
       "      <th>47336</th>\n",
       "      <td>caipirinha</td>\n",
       "      <td>3 min</td>\n",
       "      <td>1</td>\n",
       "      <td>2</td>\n",
       "      <td>1 dose jus citron vert frais 15 millilitre j...</td>\n",
       "      <td>cuillere bois shaker</td>\n",
       "      <td>etape 1 shaker melanger ingredient glace pilee...</td>\n",
       "      <td>caipirinha    1 dose jus citron vert frais 15 ...</td>\n",
       "    </tr>\n",
       "    <tr>\n",
       "      <th>47337</th>\n",
       "      <td>kombucha maison citron gingembre</td>\n",
       "      <td>-</td>\n",
       "      <td>1</td>\n",
       "      <td>2</td>\n",
       "      <td>1 morceau gingembre raper   100 gramme sucre...</td>\n",
       "      <td>casserole balance cuisine</td>\n",
       "      <td>etape 1 commencer realiser sirop chauffer eau ...</td>\n",
       "      <td>kombucha maison citron gingembre    1 morceau ...</td>\n",
       "    </tr>\n",
       "    <tr>\n",
       "      <th>47338</th>\n",
       "      <td>gin tonic</td>\n",
       "      <td>5 min</td>\n",
       "      <td>1</td>\n",
       "      <td>2</td>\n",
       "      <td>4 cl gin   2 rondelle citron   8 cl tonic</td>\n",
       "      <td></td>\n",
       "      <td>etape 1 verser glaçon verre etape 2 ajouter gi...</td>\n",
       "      <td>gin tonic    4 cl gin   2 rondelle citron   8 ...</td>\n",
       "    </tr>\n",
       "    <tr>\n",
       "      <th>47339</th>\n",
       "      <td>americano cocktail</td>\n",
       "      <td>10 min</td>\n",
       "      <td>1</td>\n",
       "      <td>2</td>\n",
       "      <td>4 cl vermouth italien 1 citron zeste 1 orang...</td>\n",
       "      <td>presse ail saladier</td>\n",
       "      <td>etape 1 preparer grand tumbler grand verre met...</td>\n",
       "      <td>americano cocktail    4 cl vermouth italien 1 ...</td>\n",
       "    </tr>\n",
       "  </tbody>\n",
       "</table>\n",
       "<p>47340 rows × 8 columns</p>\n",
       "</div>"
      ],
      "text/plain": [
       "                                        Nom       Duree  Personnes  Type  \\\n",
       "0      soupe veloute potimarron pomme terre      45 min          4     4   \n",
       "1                              soupe oignon      45 min          4     4   \n",
       "2                           veloute potiron  1 h 15 min          4     4   \n",
       "3                veloute butternut cannelle      35 min          4     4   \n",
       "4                      tarte poireau lardon      50 min          6     4   \n",
       "...                                     ...         ...        ...   ...   \n",
       "47335                        liqueur genepi      10 min          1     2   \n",
       "47336                            caipirinha       3 min          1     2   \n",
       "47337      kombucha maison citron gingembre           -          1     2   \n",
       "47338                             gin tonic       5 min          1     2   \n",
       "47339                    americano cocktail      10 min          1     2   \n",
       "\n",
       "                                             Ingredients  \\\n",
       "0      2 pomme terre 2 oignon hache   3 gousse ail ha...   \n",
       "1      4 oignon   50 gramme beurre   1 c.a. huile   1...   \n",
       "2      1 oignon   1 quartier potiron 1 brique creme f...   \n",
       "3      1 oignon   1 c.a. creme frais   1 pincee canne...   \n",
       "4        250 gramme farine   140 gramme beurre   2 c....   \n",
       "...                                                  ...   \n",
       "47335    40 morceau sucre   40 brin genepi   1 l alco...   \n",
       "47336    1 dose jus citron vert frais 15 millilitre j...   \n",
       "47337    1 morceau gingembre raper   100 gramme sucre...   \n",
       "47338          4 cl gin   2 rondelle citron   8 cl tonic   \n",
       "47339    4 cl vermouth italien 1 citron zeste 1 orang...   \n",
       "\n",
       "                                              Ustensiles  \\\n",
       "0      louche mixeur plonger blender chauffer couteau...   \n",
       "1      louche mixeur plonger blender chauffer saladie...   \n",
       "2      louche mixeur plonger couteau cocotte fonte po...   \n",
       "3      louche mixeur plonger couteau cuillere bois po...   \n",
       "4      moule tarte four couteau pinceau rape poele sa...   \n",
       "...                                                  ...   \n",
       "47335                          entonnoir balance cuisine   \n",
       "47336                               cuillere bois shaker   \n",
       "47337                          casserole balance cuisine   \n",
       "47338                                                      \n",
       "47339                                presse ail saladier   \n",
       "\n",
       "                                                  Etapes  \\\n",
       "0      etape 1 enlever ecorce pepin potimarron obliga...   \n",
       "1      etape 1 pelez emincer oignon etape 2 faire rev...   \n",
       "2      etape 1 couper chair potiron gros de etape 2 c...   \n",
       "3      etape 1 couper butternut gros cube etape 2 cou...   \n",
       "4      etape 1 prechauffer four 210 degre c thermosta...   \n",
       "...                                                  ...   \n",
       "47335  etape 1 transvaser litre alcool gros bouteille...   \n",
       "47336  etape 1 shaker melanger ingredient glace pilee...   \n",
       "47337  etape 1 commencer realiser sirop chauffer eau ...   \n",
       "47338  etape 1 verser glaçon verre etape 2 ajouter gi...   \n",
       "47339  etape 1 preparer grand tumbler grand verre met...   \n",
       "\n",
       "                                                recettes  \n",
       "0      soupe veloute potimarron pomme terre  2 pomme ...  \n",
       "1      soupe oignon  4 oignon   50 gramme beurre   1 ...  \n",
       "2      veloute potiron  1 oignon   1 quartier potiron...  \n",
       "3      veloute butternut cannelle  1 oignon   1 c.a. ...  \n",
       "4      tarte poireau lardon    250 gramme farine   14...  \n",
       "...                                                  ...  \n",
       "47335  liqueur genepi    40 morceau sucre   40 brin g...  \n",
       "47336  caipirinha    1 dose jus citron vert frais 15 ...  \n",
       "47337  kombucha maison citron gingembre    1 morceau ...  \n",
       "47338  gin tonic    4 cl gin   2 rondelle citron   8 ...  \n",
       "47339  americano cocktail    4 cl vermouth italien 1 ...  \n",
       "\n",
       "[47340 rows x 8 columns]"
      ]
     },
     "execution_count": 59,
     "metadata": {},
     "output_type": "execute_result"
    }
   ],
   "source": [
    "cleaned_data"
   ]
  },
  {
   "cell_type": "code",
   "execution_count": 60,
   "metadata": {},
   "outputs": [],
   "source": [
    "cleaned_data.to_csv(os.path.join(repo_dir,\"data\",\"cleaned_data.csv\"),encoding=\"utf-8\",sep=\",\", index=False)"
   ]
  },
  {
   "cell_type": "code",
   "execution_count": 40,
   "metadata": {},
   "outputs": [
    {
     "name": "stdout",
     "output_type": "stream",
     "text": [
      "Done\n"
     ]
    }
   ],
   "source": [
    "txt_filename = os.path.join(repo_dir,\"data\",\"recettes.txt\")\n",
    "# start_token = '<|startofrecipe|>'\n",
    "# end_token = '<|endofrecipe|>'\n",
    "\n",
    "with open(txt_filename, 'w',encoding='utf-8') as fp:\n",
    "    for item in data[\"recettes\"].to_list():\n",
    "        fp.write(\"%s\\n\\n\"%item.strip())\n",
    "    print('Done')"
   ]
  }
 ],
 "metadata": {
  "kernelspec": {
   "display_name": "Python 3.10.4 ('venv': venv)",
   "language": "python",
   "name": "python3"
  },
  "language_info": {
   "codemirror_mode": {
    "name": "ipython",
    "version": 3
   },
   "file_extension": ".py",
   "mimetype": "text/x-python",
   "name": "python",
   "nbconvert_exporter": "python",
   "pygments_lexer": "ipython3",
   "version": "3.10.4"
  },
  "orig_nbformat": 4,
  "vscode": {
   "interpreter": {
    "hash": "befec533deea68de54ca62dbffdf5cda37e71d4b7ad2a5c99b38a8c68b455b77"
   }
  }
 },
 "nbformat": 4,
 "nbformat_minor": 2
}
