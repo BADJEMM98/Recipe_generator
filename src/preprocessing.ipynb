{
 "cells": [
  {
   "cell_type": "code",
   "execution_count": 140,
   "metadata": {},
   "outputs": [],
   "source": [
    "import pandas as pd\n",
    "import nltk \n",
    "from typing import List\n",
    "import spacy\n",
    "import json\n",
    "import ast\n",
    "import os\n",
    "import re"
   ]
  },
  {
   "cell_type": "code",
   "execution_count": 100,
   "metadata": {},
   "outputs": [],
   "source": [
    "nlp = spacy.load(\"fr_core_news_lg\")"
   ]
  },
  {
   "cell_type": "code",
   "execution_count": 101,
   "metadata": {},
   "outputs": [
    {
     "name": "stderr",
     "output_type": "stream",
     "text": [
      "[nltk_data] Downloading collection 'popular'\n",
      "[nltk_data]    | \n",
      "[nltk_data]    | Downloading package cmudict to\n",
      "[nltk_data]    |     C:\\Users\\badje\\AppData\\Roaming\\nltk_data...\n",
      "[nltk_data]    |   Package cmudict is already up-to-date!\n",
      "[nltk_data]    | Downloading package gazetteers to\n",
      "[nltk_data]    |     C:\\Users\\badje\\AppData\\Roaming\\nltk_data...\n",
      "[nltk_data]    |   Package gazetteers is already up-to-date!\n",
      "[nltk_data]    | Downloading package genesis to\n",
      "[nltk_data]    |     C:\\Users\\badje\\AppData\\Roaming\\nltk_data...\n",
      "[nltk_data]    |   Package genesis is already up-to-date!\n",
      "[nltk_data]    | Downloading package gutenberg to\n",
      "[nltk_data]    |     C:\\Users\\badje\\AppData\\Roaming\\nltk_data...\n",
      "[nltk_data]    |   Package gutenberg is already up-to-date!\n",
      "[nltk_data]    | Downloading package inaugural to\n",
      "[nltk_data]    |     C:\\Users\\badje\\AppData\\Roaming\\nltk_data...\n",
      "[nltk_data]    |   Package inaugural is already up-to-date!\n",
      "[nltk_data]    | Downloading package movie_reviews to\n",
      "[nltk_data]    |     C:\\Users\\badje\\AppData\\Roaming\\nltk_data...\n",
      "[nltk_data]    |   Package movie_reviews is already up-to-date!\n",
      "[nltk_data]    | Downloading package names to\n",
      "[nltk_data]    |     C:\\Users\\badje\\AppData\\Roaming\\nltk_data...\n",
      "[nltk_data]    |   Package names is already up-to-date!\n",
      "[nltk_data]    | Downloading package shakespeare to\n",
      "[nltk_data]    |     C:\\Users\\badje\\AppData\\Roaming\\nltk_data...\n",
      "[nltk_data]    |   Package shakespeare is already up-to-date!\n",
      "[nltk_data]    | Downloading package stopwords to\n",
      "[nltk_data]    |     C:\\Users\\badje\\AppData\\Roaming\\nltk_data...\n",
      "[nltk_data]    |   Package stopwords is already up-to-date!\n",
      "[nltk_data]    | Downloading package treebank to\n",
      "[nltk_data]    |     C:\\Users\\badje\\AppData\\Roaming\\nltk_data...\n",
      "[nltk_data]    |   Package treebank is already up-to-date!\n",
      "[nltk_data]    | Downloading package twitter_samples to\n",
      "[nltk_data]    |     C:\\Users\\badje\\AppData\\Roaming\\nltk_data...\n",
      "[nltk_data]    |   Package twitter_samples is already up-to-date!\n",
      "[nltk_data]    | Downloading package omw to\n",
      "[nltk_data]    |     C:\\Users\\badje\\AppData\\Roaming\\nltk_data...\n",
      "[nltk_data]    |   Package omw is already up-to-date!\n",
      "[nltk_data]    | Downloading package omw-1.4 to\n",
      "[nltk_data]    |     C:\\Users\\badje\\AppData\\Roaming\\nltk_data...\n",
      "[nltk_data]    |   Package omw-1.4 is already up-to-date!\n",
      "[nltk_data]    | Downloading package wordnet to\n",
      "[nltk_data]    |     C:\\Users\\badje\\AppData\\Roaming\\nltk_data...\n",
      "[nltk_data]    |   Package wordnet is already up-to-date!\n",
      "[nltk_data]    | Downloading package wordnet2021 to\n",
      "[nltk_data]    |     C:\\Users\\badje\\AppData\\Roaming\\nltk_data...\n",
      "[nltk_data]    |   Package wordnet2021 is already up-to-date!\n",
      "[nltk_data]    | Downloading package wordnet31 to\n",
      "[nltk_data]    |     C:\\Users\\badje\\AppData\\Roaming\\nltk_data...\n",
      "[nltk_data]    |   Package wordnet31 is already up-to-date!\n",
      "[nltk_data]    | Downloading package wordnet_ic to\n",
      "[nltk_data]    |     C:\\Users\\badje\\AppData\\Roaming\\nltk_data...\n",
      "[nltk_data]    |   Package wordnet_ic is already up-to-date!\n",
      "[nltk_data]    | Downloading package words to\n",
      "[nltk_data]    |     C:\\Users\\badje\\AppData\\Roaming\\nltk_data...\n",
      "[nltk_data]    |   Package words is already up-to-date!\n",
      "[nltk_data]    | Downloading package maxent_ne_chunker to\n",
      "[nltk_data]    |     C:\\Users\\badje\\AppData\\Roaming\\nltk_data...\n",
      "[nltk_data]    |   Package maxent_ne_chunker is already up-to-date!\n",
      "[nltk_data]    | Downloading package punkt to\n",
      "[nltk_data]    |     C:\\Users\\badje\\AppData\\Roaming\\nltk_data...\n",
      "[nltk_data]    |   Package punkt is already up-to-date!\n",
      "[nltk_data]    | Downloading package snowball_data to\n",
      "[nltk_data]    |     C:\\Users\\badje\\AppData\\Roaming\\nltk_data...\n",
      "[nltk_data]    |   Package snowball_data is already up-to-date!\n",
      "[nltk_data]    | Downloading package averaged_perceptron_tagger to\n",
      "[nltk_data]    |     C:\\Users\\badje\\AppData\\Roaming\\nltk_data...\n",
      "[nltk_data]    |   Package averaged_perceptron_tagger is already up-\n",
      "[nltk_data]    |       to-date!\n",
      "[nltk_data]    | \n",
      "[nltk_data]  Done downloading collection popular\n"
     ]
    },
    {
     "data": {
      "text/plain": [
       "True"
      ]
     },
     "execution_count": 101,
     "metadata": {},
     "output_type": "execute_result"
    }
   ],
   "source": [
    "nltk.download(\"popular\")"
   ]
  },
  {
   "cell_type": "code",
   "execution_count": 167,
   "metadata": {},
   "outputs": [],
   "source": [
    "current_dir = os.path.dirname(os.path.realpath(\"__file__\"))\n",
    "repo_dir = os.path.dirname(current_dir)\n",
    "DATA_FILE = os.path.join(repo_dir,\"data\",\"recettes.csv\")\n",
    "data = pd.read_csv(DATA_FILE, encoding=\"utf-8\",sep=',')"
   ]
  },
  {
   "cell_type": "code",
   "execution_count": null,
   "metadata": {},
   "outputs": [
    {
     "data": {
      "text/plain": [
       "0        [{'Étape 1': \"Enlever l'écorce et les pépins d...\n",
       "1        [{'Étape 1': 'Pelez et émincez les oignons.'},...\n",
       "2        [{'Étape 1': 'Couper la chair du potiron en gr...\n",
       "3        [{'Étape 1': 'Couper le butternut en gros cube...\n",
       "4        [{'Étape 1': 'Préchauffer le four à 210°C (the...\n",
       "                               ...                        \n",
       "47335    [{'Étape 1': \"Transvaser le litre d'alcool dan...\n",
       "47336    [{'Étape 1': 'Dans un shaker, mélanger tous le...\n",
       "47337    [{'Étape 1': 'Commencer par réaliser un sirop ...\n",
       "47338    [{'Étape 1': 'Verser les glaçons directement d...\n",
       "47339    [{'Étape 1': 'Préparez directement dans un gra...\n",
       "Name: Etapes, Length: 47340, dtype: object"
      ]
     },
     "execution_count": 103,
     "metadata": {},
     "output_type": "execute_result"
    }
   ],
   "source": [
    "data[\"Etapes\"][0]"
   ]
  },
  {
   "cell_type": "code",
   "execution_count": 124,
   "metadata": {},
   "outputs": [],
   "source": [
    "def split_quantity_units(text):\n",
    "    if re.match(r\"^\\d.*[a-zA-Z]$\",text) is not None:\n",
    "        my_list = re.split(r'(\\d+)', text)\n",
    "        return \" \".join(my_list)\n",
    "    return text"
   ]
  },
  {
   "cell_type": "code",
   "execution_count": 160,
   "metadata": {},
   "outputs": [],
   "source": [
    "def rm_duplicated_dgt(text:str):\n",
    "    if text.isnumeric() and len(text)%2==0 and text[:int(len(text)/2)]==text[int(len(text)/2):]:\n",
    "        return(text[:int(len(text)/2)])\n",
    "    else:\n",
    "        return(text)\n",
    "\n",
    "# rm_duplicated_dgt(text)"
   ]
  },
  {
   "cell_type": "code",
   "execution_count": 168,
   "metadata": {},
   "outputs": [],
   "source": [
    "def spacy_prep(texts):\n",
    "    cleaned_texts = []\n",
    "    docs = list(nlp.pipe(texts))\n",
    "    for doc in docs:\n",
    "        cleaned_texts.append(\" \".join([token.lemma_ for token in doc if not token.is_punct\n",
    "                                                                            # and not tokens.is_digit\n",
    "                                                                            # and not token.is_oov\n",
    "                                                                            and not token.is_stop\n",
    "                                                                            ]))\n",
    "    return cleaned_texts"
   ]
  },
  {
   "cell_type": "code",
   "execution_count": 169,
   "metadata": {},
   "outputs": [],
   "source": [
    "def join_qty_ingredients(ingredients:str):\n",
    "    list_ingredients = ast.literal_eval(ingredients)\n",
    "    new_ingredients = []\n",
    "    for i in range(len(list_ingredients)-1):\n",
    "        if bool(re.search(r'\\d', list_ingredients[i])):\n",
    "            list_ingredients[i] = rm_duplicated_dgt(list_ingredients[i])\n",
    "            list_ingredients[i] = split_quantity_units(list_ingredients[i])\n",
    "            if list_ingredients[i+1] != list_ingredients[i].split(\" \")[-1] and list_ingredients[i+1] != \"\":\n",
    "                new_ingredients.append(\" \".join([list_ingredients[i],list_ingredients[i+1]]))\n",
    "            else:\n",
    "                if i+2 <= len(list_ingredients):\n",
    "                    new_ingredients.append(\" \".join([list_ingredients[i],list_ingredients[i+2]]))\n",
    "    return \", \".join(new_ingredients)"
   ]
  },
  {
   "cell_type": "code",
   "execution_count": null,
   "metadata": {},
   "outputs": [],
   "source": [
    "unit_abbreviation = {\n",
    "    \"c.à.s\" : \"cuillère à soupe\",\n",
    "    \"c.à.c\" : \"cuillère à café\",\n",
    "    \"g\"     : \"gramme\",\n",
    "    \"l\"     : \"litre\",\n",
    "    \"cl\"    : \"centilitre\",\n",
    "    \"ml\"    : \"millilitre\",\n",
    "    \"kg\"    : \"kilogramme\",\n",
    "}"
   ]
  },
  {
   "cell_type": "code",
   "execution_count": 162,
   "metadata": {},
   "outputs": [
    {
     "name": "stdout",
     "output_type": "stream",
     "text": [
      " 1 kg de champignon « trompettes de la mort »,  2 c.à.s d'huile d'olive ,  1 gousse d'ail hachée,  1 ⁄ 2 botte de persil haché\n"
     ]
    }
   ],
   "source": [
    "print(join_qty_ingredients(data[\"Ingredients\"][20]))"
   ]
  },
  {
   "cell_type": "code",
   "execution_count": null,
   "metadata": {},
   "outputs": [],
   "source": [
    "def unit_full_name():\n",
    "    "
   ]
  },
  {
   "cell_type": "code",
   "execution_count": 170,
   "metadata": {},
   "outputs": [],
   "source": [
    "def remove_accents(text:str):\n",
    "    text = re.sub(r'[àáâãäå]', 'a', text)\n",
    "    text = re.sub(r'[èéêë]', 'e', text)\n",
    "    text = re.sub(r'[ìíîï]', 'i', text)\n",
    "    text = re.sub(r'[òóôõö]', 'o', text)\n",
    "    text = re.sub(r'[ùúûü]', 'u', text)\n",
    "    return(text)"
   ]
  },
  {
   "cell_type": "code",
   "execution_count": 171,
   "metadata": {},
   "outputs": [],
   "source": [
    "def preprocessing_fn(df:pd.DataFrame):\n",
    "    data = df.copy()\n",
    "    TEXT_FEATURES = [\"Nom\",\"Type\",\"Ingredients\",\"Ustensiles\",\"Etapes\"]\n",
    "    for key in TEXT_FEATURES:\n",
    "        data[key] = data[key].apply(lambda x:x.lower())\n",
    "        if key == \"Ingredients\":\n",
    "            data[key] = data[key].apply(lambda x:join_qty_ingredients(x))\n",
    "        data[key] = spacy_prep(data[key].to_numpy())\n",
    "        data[key] = data[key].apply(lambda x: remove_accents(x))\n",
    "        # data[key] = data[key].apply(lambda x: rm_duplicated_dgt(x))\n",
    "    \n",
    "    return data"
   ]
  },
  {
   "cell_type": "code",
   "execution_count": 172,
   "metadata": {},
   "outputs": [
    {
     "data": {
      "text/html": [
       "<div>\n",
       "<style scoped>\n",
       "    .dataframe tbody tr th:only-of-type {\n",
       "        vertical-align: middle;\n",
       "    }\n",
       "\n",
       "    .dataframe tbody tr th {\n",
       "        vertical-align: top;\n",
       "    }\n",
       "\n",
       "    .dataframe thead th {\n",
       "        text-align: right;\n",
       "    }\n",
       "</style>\n",
       "<table border=\"1\" class=\"dataframe\">\n",
       "  <thead>\n",
       "    <tr style=\"text-align: right;\">\n",
       "      <th></th>\n",
       "      <th>Nom</th>\n",
       "      <th>Duree</th>\n",
       "      <th>Personnes</th>\n",
       "      <th>Type</th>\n",
       "      <th>Ingredients</th>\n",
       "      <th>Ustensiles</th>\n",
       "      <th>Etapes</th>\n",
       "    </tr>\n",
       "  </thead>\n",
       "  <tbody>\n",
       "    <tr>\n",
       "      <th>0</th>\n",
       "      <td>Soupe veloutée de potimarron et pommes de terre</td>\n",
       "      <td>45 min</td>\n",
       "      <td>4</td>\n",
       "      <td>Entrée</td>\n",
       "      <td>['22', 'pommes de terre ', '22', 'oignons hach...</td>\n",
       "      <td>['louche', 'mixeur plongeant', 'Blender chauff...</td>\n",
       "      <td>[{'Étape 1': \"Enlever l'écorce et les pépins d...</td>\n",
       "    </tr>\n",
       "    <tr>\n",
       "      <th>1</th>\n",
       "      <td>Soupe à l'oignon</td>\n",
       "      <td>45 min</td>\n",
       "      <td>4</td>\n",
       "      <td>Entrée</td>\n",
       "      <td>['44', 'oignons ', '50g', 'de beurre ', '1c.à....</td>\n",
       "      <td>['louche', 'mixeur plongeant', 'Blender chauff...</td>\n",
       "      <td>[{'Étape 1': 'Pelez et émincez les oignons.'},...</td>\n",
       "    </tr>\n",
       "    <tr>\n",
       "      <th>2</th>\n",
       "      <td>Velouté de potiron</td>\n",
       "      <td>1 h 15 min</td>\n",
       "      <td>4</td>\n",
       "      <td>Entrée</td>\n",
       "      <td>['11', 'oignon ', '', 'poivre ', '', 'sel ', '...</td>\n",
       "      <td>['louche', 'mixeur plongeant', 'Couteau', 'Coc...</td>\n",
       "      <td>[{'Étape 1': 'Couper la chair du potiron en gr...</td>\n",
       "    </tr>\n",
       "    <tr>\n",
       "      <th>3</th>\n",
       "      <td>Velouté de butternut à la cannelle</td>\n",
       "      <td>35 min</td>\n",
       "      <td>4</td>\n",
       "      <td>Entrée</td>\n",
       "      <td>['11', 'oignon ', '1c.à.s', 'c.à.s', 'de crème...</td>\n",
       "      <td>['louche', 'mixeur plongeant', 'Couteau', 'Cui...</td>\n",
       "      <td>[{'Étape 1': 'Couper le butternut en gros cube...</td>\n",
       "    </tr>\n",
       "    <tr>\n",
       "      <th>4</th>\n",
       "      <td>Tarte aux poireaux et aux lardons</td>\n",
       "      <td>50 min</td>\n",
       "      <td>6</td>\n",
       "      <td>Entrée</td>\n",
       "      <td>['250g', 'de farine ', '140g', 'de beurre ', '...</td>\n",
       "      <td>['Moule à tarte', 'Four', 'couteau', 'pinceau'...</td>\n",
       "      <td>[{'Étape 1': 'Préchauffer le four à 210°C (the...</td>\n",
       "    </tr>\n",
       "    <tr>\n",
       "      <th>...</th>\n",
       "      <td>...</td>\n",
       "      <td>...</td>\n",
       "      <td>...</td>\n",
       "      <td>...</td>\n",
       "      <td>...</td>\n",
       "      <td>...</td>\n",
       "      <td>...</td>\n",
       "    </tr>\n",
       "    <tr>\n",
       "      <th>47335</th>\n",
       "      <td>Liqueur de Génépi</td>\n",
       "      <td>10 min</td>\n",
       "      <td>1</td>\n",
       "      <td>Boisson</td>\n",
       "      <td>['40morceaux', 'de sucre ', '40brins', 'de gén...</td>\n",
       "      <td>['Entonnoir', 'balance de cuisine']</td>\n",
       "      <td>[{'Étape 1': \"Transvaser le litre d'alcool dan...</td>\n",
       "    </tr>\n",
       "    <tr>\n",
       "      <th>47336</th>\n",
       "      <td>Caipirinha</td>\n",
       "      <td>3 min</td>\n",
       "      <td>1</td>\n",
       "      <td>Boisson</td>\n",
       "      <td>['1dose', 'de jus de citron vert frais (15 ml)...</td>\n",
       "      <td>['Cuillère en bois', 'shaker']</td>\n",
       "      <td>[{'Étape 1': 'Dans un shaker, mélanger tous le...</td>\n",
       "    </tr>\n",
       "    <tr>\n",
       "      <th>47337</th>\n",
       "      <td>Kombucha maison au citron et au gingembre</td>\n",
       "      <td>-</td>\n",
       "      <td>1</td>\n",
       "      <td>Boisson</td>\n",
       "      <td>['1morceau', 'de gingembre râpé', '100g', 'de ...</td>\n",
       "      <td>['casserole', 'balance de cuisine']</td>\n",
       "      <td>[{'Étape 1': 'Commencer par réaliser un sirop ...</td>\n",
       "    </tr>\n",
       "    <tr>\n",
       "      <th>47338</th>\n",
       "      <td>Gin tonic</td>\n",
       "      <td>5 min</td>\n",
       "      <td>1</td>\n",
       "      <td>Boisson</td>\n",
       "      <td>['4cl', 'de gin ', '2rondelles', 'de citron ',...</td>\n",
       "      <td>[]</td>\n",
       "      <td>[{'Étape 1': 'Verser les glaçons directement d...</td>\n",
       "    </tr>\n",
       "    <tr>\n",
       "      <th>47339</th>\n",
       "      <td>Americano (cocktail)</td>\n",
       "      <td>10 min</td>\n",
       "      <td>1</td>\n",
       "      <td>Boisson</td>\n",
       "      <td>['4cl', 'de vermouth italien', '11', 'citron (...</td>\n",
       "      <td>['Presse-ail', 'saladier']</td>\n",
       "      <td>[{'Étape 1': 'Préparez directement dans un gra...</td>\n",
       "    </tr>\n",
       "  </tbody>\n",
       "</table>\n",
       "<p>47340 rows × 7 columns</p>\n",
       "</div>"
      ],
      "text/plain": [
       "                                                   Nom       Duree  Personnes  \\\n",
       "0      Soupe veloutée de potimarron et pommes de terre      45 min          4   \n",
       "1                                     Soupe à l'oignon      45 min          4   \n",
       "2                                   Velouté de potiron  1 h 15 min          4   \n",
       "3                   Velouté de butternut à la cannelle      35 min          4   \n",
       "4                    Tarte aux poireaux et aux lardons      50 min          6   \n",
       "...                                                ...         ...        ...   \n",
       "47335                                Liqueur de Génépi      10 min          1   \n",
       "47336                                       Caipirinha       3 min          1   \n",
       "47337        Kombucha maison au citron et au gingembre           -          1   \n",
       "47338                                        Gin tonic       5 min          1   \n",
       "47339                             Americano (cocktail)      10 min          1   \n",
       "\n",
       "          Type                                        Ingredients  \\\n",
       "0       Entrée  ['22', 'pommes de terre ', '22', 'oignons hach...   \n",
       "1       Entrée  ['44', 'oignons ', '50g', 'de beurre ', '1c.à....   \n",
       "2       Entrée  ['11', 'oignon ', '', 'poivre ', '', 'sel ', '...   \n",
       "3       Entrée  ['11', 'oignon ', '1c.à.s', 'c.à.s', 'de crème...   \n",
       "4       Entrée  ['250g', 'de farine ', '140g', 'de beurre ', '...   \n",
       "...        ...                                                ...   \n",
       "47335  Boisson  ['40morceaux', 'de sucre ', '40brins', 'de gén...   \n",
       "47336  Boisson  ['1dose', 'de jus de citron vert frais (15 ml)...   \n",
       "47337  Boisson  ['1morceau', 'de gingembre râpé', '100g', 'de ...   \n",
       "47338  Boisson  ['4cl', 'de gin ', '2rondelles', 'de citron ',...   \n",
       "47339  Boisson  ['4cl', 'de vermouth italien', '11', 'citron (...   \n",
       "\n",
       "                                              Ustensiles  \\\n",
       "0      ['louche', 'mixeur plongeant', 'Blender chauff...   \n",
       "1      ['louche', 'mixeur plongeant', 'Blender chauff...   \n",
       "2      ['louche', 'mixeur plongeant', 'Couteau', 'Coc...   \n",
       "3      ['louche', 'mixeur plongeant', 'Couteau', 'Cui...   \n",
       "4      ['Moule à tarte', 'Four', 'couteau', 'pinceau'...   \n",
       "...                                                  ...   \n",
       "47335                ['Entonnoir', 'balance de cuisine']   \n",
       "47336                     ['Cuillère en bois', 'shaker']   \n",
       "47337                ['casserole', 'balance de cuisine']   \n",
       "47338                                                 []   \n",
       "47339                         ['Presse-ail', 'saladier']   \n",
       "\n",
       "                                                  Etapes  \n",
       "0      [{'Étape 1': \"Enlever l'écorce et les pépins d...  \n",
       "1      [{'Étape 1': 'Pelez et émincez les oignons.'},...  \n",
       "2      [{'Étape 1': 'Couper la chair du potiron en gr...  \n",
       "3      [{'Étape 1': 'Couper le butternut en gros cube...  \n",
       "4      [{'Étape 1': 'Préchauffer le four à 210°C (the...  \n",
       "...                                                  ...  \n",
       "47335  [{'Étape 1': \"Transvaser le litre d'alcool dan...  \n",
       "47336  [{'Étape 1': 'Dans un shaker, mélanger tous le...  \n",
       "47337  [{'Étape 1': 'Commencer par réaliser un sirop ...  \n",
       "47338  [{'Étape 1': 'Verser les glaçons directement d...  \n",
       "47339  [{'Étape 1': 'Préparez directement dans un gra...  \n",
       "\n",
       "[47340 rows x 7 columns]"
      ]
     },
     "execution_count": 172,
     "metadata": {},
     "output_type": "execute_result"
    }
   ],
   "source": [
    "clean"
   ]
  },
  {
   "cell_type": "code",
   "execution_count": 173,
   "metadata": {},
   "outputs": [],
   "source": [
    "cleaned_data = preprocessing_fn(data)"
   ]
  },
  {
   "cell_type": "code",
   "execution_count": 179,
   "metadata": {},
   "outputs": [],
   "source": [
    "final_data = cleaned_data.loc[:,[\"Nom\",\"Ingredients\",\"Ustensiles\",\"Etapes\"]]\n",
    "final_data.to_csv(os.path.join(repo_dir,\"data\",\"cleaned_data.csv\"),encoding=\"utf-8\",sep=\",\", index=False)"
   ]
  }
 ],
 "metadata": {
  "kernelspec": {
   "display_name": "Python 3.10.4 ('venv': venv)",
   "language": "python",
   "name": "python3"
  },
  "language_info": {
   "codemirror_mode": {
    "name": "ipython",
    "version": 3
   },
   "file_extension": ".py",
   "mimetype": "text/x-python",
   "name": "python",
   "nbconvert_exporter": "python",
   "pygments_lexer": "ipython3",
   "version": "3.10.4"
  },
  "orig_nbformat": 4,
  "vscode": {
   "interpreter": {
    "hash": "befec533deea68de54ca62dbffdf5cda37e71d4b7ad2a5c99b38a8c68b455b77"
   }
  }
 },
 "nbformat": 4,
 "nbformat_minor": 2
}
