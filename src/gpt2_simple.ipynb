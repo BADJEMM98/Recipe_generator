{
 "cells": [
  {
   "cell_type": "code",
   "execution_count": 1,
   "metadata": {},
   "outputs": [],
   "source": [
    "import tarfile\n",
    "import os\n",
    "import gpt_2_simple as gpt2\n",
    "import tensorflow as tf"
   ]
  },
  {
   "cell_type": "code",
   "execution_count": 2,
   "metadata": {},
   "outputs": [
    {
     "name": "stdout",
     "output_type": "stream",
     "text": [
      "Downloading  124M  model...\n"
     ]
    },
    {
     "name": "stderr",
     "output_type": "stream",
     "text": [
      "Fetching checkpoint: 1.05Mit [00:00, 1.05Git/s]                                                     \n",
      "Fetching encoder.json: 1.05Mit [00:01, 988kit/s]                                                    \n",
      "Fetching hparams.json: 1.05Mit [00:00, 1.04Git/s]                                                   \n",
      "Fetching model.ckpt.data-00000-of-00001: 498Mit [06:52, 1.21Mit/s]                                  \n",
      "Fetching model.ckpt.index: 1.05Mit [00:00, 525Mit/s]                                                \n",
      "Fetching model.ckpt.meta: 1.05Mit [00:00, 1.77Mit/s]                                                \n",
      "Fetching vocab.bpe: 1.05Mit [00:00, 1.83Mit/s]                                                      \n"
     ]
    }
   ],
   "source": [
    "\n",
    "model_name = \"124M\"\n",
    "if not os.path.isdir(os.path.join(\"models\", model_name)):\n",
    "    print(\"Downloading \", model_name, \" model...\")\n",
    "    gpt2.download_gpt2(model_name=model_name)  # model is saved into current directory under /models/124M/"
   ]
  },
  {
   "cell_type": "code",
   "execution_count": 3,
   "metadata": {},
   "outputs": [
    {
     "name": "stdout",
     "output_type": "stream",
     "text": [
      "Loading checkpoint models\\124M\\model.ckpt\n",
      "INFO:tensorflow:Restoring parameters from models\\124M\\model.ckpt\n",
      "Loading dataset...\n"
     ]
    },
    {
     "name": "stderr",
     "output_type": "stream",
     "text": [
      "100%|██████████| 1/1 [00:00<00:00, 111.79it/s]"
     ]
    },
    {
     "name": "stdout",
     "output_type": "stream",
     "text": [
      "dataset has 1925 tokens\n",
      "Training...\n"
     ]
    },
    {
     "name": "stderr",
     "output_type": "stream",
     "text": [
      "\n"
     ]
    }
   ],
   "source": [
    "\n",
    "current_dir = os.path.dirname(os.path.realpath(\"__file__\"))\n",
    "repo_dir = os.path.dirname(current_dir)\n",
    "file_name = os.path.join(repo_dir,\"data\",\"recettes.txt\")\n",
    "sess = gpt2.start_tf_sess()\n",
    "gpt2.finetune(\n",
    "    sess,\n",
    "    file_name,\n",
    "    multi_gpu=True,\n",
    "    batch_size=16,\n",
    "    learning_rate=0.0001,\n",
    "    model_name=model_name,\n",
    "    sample_every=10000,\n",
    "    max_checkpoints=8,\n",
    "    save_every=200,\n",
    "    steps=1000,\n",
    ")\n",
    "\n",
    "gpt2.generate(sess)"
   ]
  }
 ],
 "metadata": {
  "kernelspec": {
   "display_name": "venv",
   "language": "python",
   "name": "python3"
  },
  "language_info": {
   "codemirror_mode": {
    "name": "ipython",
    "version": 3
   },
   "file_extension": ".py",
   "mimetype": "text/x-python",
   "name": "python",
   "nbconvert_exporter": "python",
   "pygments_lexer": "ipython3",
   "version": "3.10.4 (tags/v3.10.4:9d38120, Mar 23 2022, 23:13:41) [MSC v.1929 64 bit (AMD64)]"
  },
  "orig_nbformat": 4,
  "vscode": {
   "interpreter": {
    "hash": "befec533deea68de54ca62dbffdf5cda37e71d4b7ad2a5c99b38a8c68b455b77"
   }
  }
 },
 "nbformat": 4,
 "nbformat_minor": 2
}
